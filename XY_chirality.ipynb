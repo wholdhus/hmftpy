{
 "cells": [
  {
   "cell_type": "code",
   "execution_count": 1,
   "metadata": {},
   "outputs": [],
   "source": [
    "import hmftpy as hmf\n",
    "from hmftpy.plaquettes.triangular import plaq12, plaq12z, plaq9p, plaq9d, plaq3\n",
    "from hmftpy.operators import mf_ops, inner_hamiltonian, periodic_hamiltonian\n",
    "from hmftpy import do_hmft\n",
    "from hmftpy.plot_spins import draw_tri_lattice, draw_cluster, plot_spins\n",
    "from quspin.basis import spin_basis_1d\n",
    "from quspin.operators import quantum_operator\n",
    "from tqdm import tqdm\n",
    "import matplotlib.pyplot as plt\n",
    "import numpy as np\n",
    "\n",
    "plaq = plaq12\n",
    "L = plaq['L']\n",
    "# basis = spin_basis_1d(L, pauli=0, Nup=(5, 6, 7))\n",
    "basis = spin_basis_1d(L, pauli=0)\n",
    "\n",
    "\n",
    "ops = hmf.operators.mf_ops(plaq, basis)\n",
    "maxit = 50"
   ]
  },
  {
   "cell_type": "code",
   "execution_count": 2,
   "metadata": {},
   "outputs": [],
   "source": [
    "urts = [[4,0,1],\n",
    "        [5,1,2],\n",
    "        [7,3,4],\n",
    "        [8,4,5],\n",
    "        [9,5,6],\n",
    "        [10,7,8],\n",
    "        [11,8,9]]\n",
    "\n",
    "dwts = [[0,3,4],\n",
    "        [1,4,5],\n",
    "        [2,5,6],\n",
    "        [4,7,8],\n",
    "        [5,8,9],\n",
    "        [8,10,11]]\n",
    "\n",
    "def scalar_chirality(sites, basis):\n",
    "    # a.(bxc)\n",
    "    a, b, c = sites\n",
    "    op_lst = [['xyz', [[1, a, b, c]]], \n",
    "              ['xzy', [[-1, a, b, c]]],\n",
    "              ['yzx', [[1, a, b, c]]], \n",
    "              ['yxz', [[-1, a, b, c]]],\n",
    "              ['zxy', [[1, a, b, c]]], \n",
    "              ['zyx', [[-1, a, b, c]]],\n",
    "             ]\n",
    "    return quantum_operator({'static': op_lst}, basis=basis, check_symm=False, check_herm=False)\n",
    "\n",
    "def z_helicity(sites, basis):\n",
    "    # (a x b + b x c + c x a)_z\n",
    "    a, b, c = sites\n",
    "    op_lst = [['xy', [[1, a, b], [1, b, c], [1, c, a]]], \n",
    "              ['yx', [[-1, a, b], [-1, b, c], [-1, c, a]]]\n",
    "             ]\n",
    "    return quantum_operator({'static': op_lst}, basis=basis, check_symm=False, check_herm=False)\n",
    "\n",
    "\n",
    "urt_ops = [scalar_chirality(sites, basis) for sites in urts]\n",
    "dwt_ops = [scalar_chirality(sites, basis) for sites in dwts]\n",
    "\n",
    "urt_hel = [z_helicity(sites, basis) for sites in urts]\n",
    "dwt_hel = [z_helicity(sites, basis) for sites in dwts]\n",
    "\n",
    "\n",
    "def get_chis(v):\n",
    "    urt_chis = np.zeros(7)\n",
    "    dwt_chis = np.zeros(6)\n",
    "    for i in range(7):\n",
    "        urt_chis[i] = np.real(urt_ops[i].expt_value(v))\n",
    "        if i != 6:\n",
    "            dwt_chis[i] = np.real(dwt_ops[i].expt_value(v))\n",
    "    return urt_chis, dwt_chis\n",
    "\n",
    "def get_hels(v):\n",
    "    urt_hels = np.zeros(7)\n",
    "    dwt_hels = np.zeros(6)\n",
    "    for i in range(7):\n",
    "        urt_hels[i] = np.real(urt_hel[i].expt_value(v))\n",
    "        if i != 6:\n",
    "            dwt_hels[i] = np.real(dwt_hel[i].expt_value(v))\n",
    "    return urt_hels, dwt_hels"
   ]
  },
  {
   "cell_type": "markdown",
   "metadata": {},
   "source": [
    "# Low $J_2$ phase"
   ]
  },
  {
   "cell_type": "code",
   "execution_count": 3,
   "metadata": {},
   "outputs": [
    {
     "name": "stdout",
     "output_type": "stream",
     "text": [
      "Energy: -4.357977949869616\n",
      "Converged? True\n",
      "Upright triangle chiralities\n",
      "[-3.22124272e-13  9.01664160e-13 -1.23437024e-12  1.22806279e-13\n",
      "  3.40071721e-12 -1.14638702e-12 -2.39164851e-12]\n",
      "Downward triangle chiralities\n",
      "[ 1.22880872e-13  1.18156526e-12 -9.86518159e-13 -4.27397267e-12\n",
      "  2.20181425e-12 -2.01774014e-12]\n",
      "Upright triangle helicities\n",
      "[0.4338898  0.43343034 0.52348714 0.57506423 0.52296202 0.56128188\n",
      " 0.56116023]\n",
      "Downard triangle helicities\n",
      "[0.43389913 0.51660358 0.43327864 0.56761041 0.5674385  0.55547939]\n"
     ]
    }
   ],
   "source": [
    "interactions = {'local': {},\n",
    "                'nearest': {'xx': 1, 'yy': 1, 'zz': 0},\n",
    "                'n_nearest': {'xx': .01, 'yy': .01, 'zz': 0}}\n",
    "e, v, mf, cvg = do_hmft(plaq, interactions, basis, \n",
    "                        max_iter=maxit, mf0=None, \n",
    "                        ops=ops, hmft_tol=10**-8,\n",
    "                        lanczos_tol=10**-11,\n",
    "                        mf_cvg=False, every_other=True)\n",
    "print('Energy: {}'.format(e))\n",
    "print('Converged? {}'.format(cvg))\n",
    "\n",
    "urt_mid, dwt_mid = get_chis(v)\n",
    "print('Upright triangle chiralities')\n",
    "print(urt_mid)\n",
    "print('Downward triangle chiralities')\n",
    "print(dwt_mid)\n",
    "\n",
    "urt_h, dwt_h = get_hels(v)\n",
    "print('Upright triangle helicities')\n",
    "print(urt_h)\n",
    "print('Downard triangle helicities')\n",
    "print(dwt_h)"
   ]
  },
  {
   "cell_type": "markdown",
   "metadata": {},
   "source": [
    "# Disordered phase"
   ]
  },
  {
   "cell_type": "code",
   "execution_count": 4,
   "metadata": {},
   "outputs": [
    {
     "name": "stdout",
     "output_type": "stream",
     "text": [
      "Energy: -3.74818888522183\n",
      "Converged? True\n",
      "Upright triangle chiralities\n",
      "[ 8.40243673e-14 -1.83207833e-13 -9.79596869e-14  4.44332863e-14\n",
      " -9.38510153e-14 -2.53097296e-13  1.84705224e-13]\n",
      "Downward triangle chiralities\n",
      "[ 2.68301006e-13  3.29770933e-15 -1.10217726e-13  1.39955369e-13\n",
      " -6.72328106e-14  1.05355937e-13]\n",
      "Upright triangle helicities\n",
      "[-6.16752309e-13  3.17671237e-14 -9.03599567e-13 -6.07269303e-13\n",
      " -1.46242660e-13 -7.02720882e-13 -1.00469980e-13]\n",
      "Downard triangle helicities\n",
      "[-8.22307500e-13 -4.88365858e-13  2.94093026e-13 -7.75224159e-13\n",
      " -2.83233178e-13 -3.94187287e-13]\n"
     ]
    }
   ],
   "source": [
    "interactions = {'local': {},\n",
    "                'nearest': {'xx': 1, 'yy': 1, 'zz': 0},\n",
    "                'n_nearest': {'xx': .18, 'yy': .18, 'zz': 0}}\n",
    "e, v, mf, cvg = do_hmft(plaq, interactions, basis, \n",
    "                        max_iter=maxit, mf0=None, \n",
    "                        ops=ops, hmft_tol=10**-8,\n",
    "                        lanczos_tol=10**-11,\n",
    "                        mf_cvg=False, every_other=True)\n",
    "print('Energy: {}'.format(e))\n",
    "print('Converged? {}'.format(cvg))\n",
    "\n",
    "urt_mid, dwt_mid = get_chis(v)\n",
    "print('Upright triangle chiralities')\n",
    "print(urt_mid)\n",
    "print('Downward triangle chiralities')\n",
    "print(dwt_mid)\n",
    "\n",
    "urt_h, dwt_h = get_hels(v)\n",
    "print('Upright triangle helicities')\n",
    "print(urt_h)\n",
    "print('Downard triangle helicities')\n",
    "print(dwt_h)"
   ]
  },
  {
   "cell_type": "markdown",
   "metadata": {},
   "source": [
    "# Stripy phase"
   ]
  },
  {
   "cell_type": "code",
   "execution_count": 5,
   "metadata": {},
   "outputs": [
    {
     "name": "stdout",
     "output_type": "stream",
     "text": [
      "Energy: -4.25068211015355\n",
      "Converged? True\n",
      "Upright triangle chiralities\n",
      "[ 7.13804016e-14  7.93294467e-14  9.12867511e-14 -3.68673291e-14\n",
      "  1.15062824e-13 -1.07482905e-13  1.69967122e-14]\n",
      "Downward triangle chiralities\n",
      "[-1.86811287e-13 -9.76578844e-15 -8.96598754e-14  3.61952854e-14\n",
      " -4.79401780e-14  4.80198563e-14]\n",
      "Upright triangle helicities\n",
      "[-2.83260318e-06 -4.20666460e-07 -3.73608052e-06  2.14555997e-06\n",
      " -1.66174533e-06  1.01146446e-06 -3.24171986e-06]\n",
      "Downard triangle helicities\n",
      "[-3.18179014e-06 -4.73947641e-07 -4.02643153e-06  2.17973217e-06\n",
      " -1.71715559e-06 -3.59841148e-06]\n"
     ]
    }
   ],
   "source": [
    "interactions = {'local': {},\n",
    "                'nearest': {'xx': 1, 'yy': 1, 'zz': 0},\n",
    "                'n_nearest': {'xx': .31, 'yy': .31, 'zz': 0}}\n",
    "e, v, mf, cvg = do_hmft(plaq, interactions, basis, \n",
    "                        max_iter=maxit, mf0=None, \n",
    "                        ops=ops, hmft_tol=10**-8,\n",
    "                        lanczos_tol=10**-11,\n",
    "                        mf_cvg=False, every_other=True)\n",
    "print('Energy: {}'.format(e))\n",
    "print('Converged? {}'.format(cvg))\n",
    "\n",
    "urt_mid, dwt_mid = get_chis(v)\n",
    "print('Upright triangle chiralities')\n",
    "print(urt_mid)\n",
    "print('Downward triangle chiralities')\n",
    "print(dwt_mid)\n",
    "\n",
    "urt_h, dwt_h = get_hels(v)\n",
    "print('Upright triangle helicities')\n",
    "print(urt_h)\n",
    "print('Downard triangle helicities')\n",
    "print(dwt_h)"
   ]
  },
  {
   "cell_type": "code",
   "execution_count": 6,
   "metadata": {},
   "outputs": [],
   "source": [
    "sum_h = np.zeros(10)\n",
    "es = np.zeros(10)\n",
    "J2s = np.linspace(0, .4, 10)\n",
    "mf0 = None\n",
    "for i, J2 in enumerate(J2s):\n",
    "    interactions = {'local': {},\n",
    "                    'nearest': {'xx': 1, 'yy': 1, 'zz': 0},\n",
    "                    'n_nearest': {'xx': J2, 'yy': J2, 'zz': 0}}\n",
    "    e, v, mf0, cvg = do_hmft(plaq, interactions, basis, \n",
    "                            max_iter=maxit,\n",
    "                            ops=ops, hmft_tol=10**-8,\n",
    "                            lanczos_tol=10**-11,\n",
    "                            mf0=None,\n",
    "                            mf_cvg=False, every_other=True)\n",
    "    urt_h, dwt_h = get_hels(v)\n",
    "    sum_h[i] = np.sum(urt_h)\n",
    "    es[i] = e"
   ]
  },
  {
   "cell_type": "code",
   "execution_count": 7,
   "metadata": {},
   "outputs": [
    {
     "data": {
      "text/plain": [
       "[<matplotlib.lines.Line2D at 0x7faa1f5d3390>]"
      ]
     },
     "execution_count": 7,
     "metadata": {},
     "output_type": "execute_result"
    },
    {
     "data": {
      "image/png": "[encoded data removed]",
      "text/plain": [
       "<Figure size 432x288 with 1 Axes>"
      ]
     },
     "metadata": {
      "needs_background": "light"
     },
     "output_type": "display_data"
    }
   ],
   "source": [
    "plt.plot(J2s, es)"
   ]
  },
  {
   "cell_type": "code",
   "execution_count": 8,
   "metadata": {},
   "outputs": [
    {
     "data": {
      "text/plain": [
       "[<matplotlib.lines.Line2D at 0x7faa1e876bd0>]"
      ]
     },
     "execution_count": 8,
     "metadata": {},
     "output_type": "execute_result"
    },
    {
     "data": {
      "image/png": "[encoded data removed]",
      "text/plain": [
       "<Figure size 432x288 with 1 Axes>"
      ]
     },
     "metadata": {
      "needs_background": "light"
     },
     "output_type": "display_data"
    }
   ],
   "source": [
    "plt.plot(J2s, sum_h)"
   ]
  },
  {
   "cell_type": "code",
   "execution_count": null,
   "metadata": {},
   "outputs": [],
   "source": []
  }
 ],
 "metadata": {
  "kernelspec": {
   "display_name": "Python 3",
   "language": "python",
   "name": "python3"
  },
  "language_info": {
   "codemirror_mode": {
    "name": "ipython",
    "version": 3
   },
   "file_extension": ".py",
   "mimetype": "text/x-python",
   "name": "python",
   "nbconvert_exporter": "python",
   "pygments_lexer": "ipython3",
   "version": "3.7.4"
  }
 },
 "nbformat": 4,
 "nbformat_minor": 4
}
