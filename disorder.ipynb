{
 "cells": [
  {
   "cell_type": "code",
   "execution_count": 37,
   "metadata": {},
   "outputs": [],
   "source": [
    "import hmftpy as hmf\n",
    "import numpy as np\n",
    "import matplotlib.pyplot as plt\n",
    "from hmftpy.plaquettes.square import plaq4\n",
    "from hmftpy.plaquettes.triangular import plaq12\n",
    "from quspin.basis import spin_basis_1d\n",
    "from tqdm import tqdm"
   ]
  },
  {
   "cell_type": "code",
   "execution_count": 38,
   "metadata": {},
   "outputs": [
    {
     "name": "stdout",
     "output_type": "stream",
     "text": [
      "ED energy with OBC: -2.7301943396169723\n",
      "ED energy with PBC: -5.460388679233945\n",
      "HMFT energy: -3.9134216072260086\n",
      "HMFT converged? True\n"
     ]
    }
   ],
   "source": [
    "basis = spin_basis_1d(4, pauli=0) # pauli=0 fixes the operators as spin-1/2, rather than pauli matrices\n",
    "h = 1\n",
    "J1 = -1\n",
    "J2 = -0.1\n",
    "interactions = {'nearest': {'xx': -J1, 'yy': -J1},\n",
    "                'n_nearest': {'xx': -J2, 'yy': -J2}}\n",
    "Hi = hmf.operators.inner_hamiltonian(plaq4, interactions, basis)\n",
    "e, v = Hi.eigh()\n",
    "ei = e[0]\n",
    "Hp = hmf.operators.periodic_hamiltonian(plaq4, interactions, basis)\n",
    "e, v = Hp.eigh()\n",
    "ep = e[0]\n",
    "e_hmft, v, mf, cvg = hmf.do_hmft(plaq4, interactions, basis)\n",
    "print('ED energy with OBC: {}'.format(ei))\n",
    "print('ED energy with PBC: {}'.format(ep))\n",
    "print('HMFT energy: {}'.format(e_hmft))\n",
    "print('HMFT converged? {}'.format(cvg))"
   ]
  },
  {
   "cell_type": "markdown",
   "metadata": {},
   "source": [
    "Now, let's add some disorder. How about we turn off every-other interaction, more or less at random."
   ]
  },
  {
   "cell_type": "code",
   "execution_count": 42,
   "metadata": {},
   "outputs": [
    {
     "name": "stdout",
     "output_type": "stream",
     "text": [
      "Average energy\n",
      "-1.6855314609135947\n",
      "Compared to half of no-disorder energy\n",
      "-1.3650971698084862\n"
     ]
    }
   ],
   "source": [
    "energies = np.zeros(100)\n",
    "rs = []\n",
    "rs_sum = np.zeros(100)\n",
    "for i in range(100):\n",
    "    r = np.random.rand(4,4)\n",
    "    r = np.round((r + r.T)/2)\n",
    "    rs += [r]\n",
    "    rs_sum[i] = np.sum(r)\n",
    "    disorder = {'nearest': {'xx': r, 'yy': r}}\n",
    "    Hi = hmf.operators.inner_hamiltonian(plaq4, interactions, basis, disorder=disorder)\n",
    "    e, v = Hi.eigh()\n",
    "    energies[i] = e[0]\n",
    "print('Average energy')\n",
    "print(np.mean(energies))\n",
    "print('Compared to half of no-disorder energy')\n",
    "print(ei/2)"
   ]
  },
  {
   "cell_type": "code",
   "execution_count": 43,
   "metadata": {},
   "outputs": [
    {
     "data": {
      "text/plain": [
       "8.07"
      ]
     },
     "execution_count": 43,
     "metadata": {},
     "output_type": "execute_result"
    }
   ],
   "source": [
    "np.mean(rs_sum)"
   ]
  }
 ],
 "metadata": {
  "kernelspec": {
   "display_name": "Python 3",
   "language": "python",
   "name": "python3"
  },
  "language_info": {
   "codemirror_mode": {
    "name": "ipython",
    "version": 3
   },
   "file_extension": ".py",
   "mimetype": "text/x-python",
   "name": "python",
   "nbconvert_exporter": "python",
   "pygments_lexer": "ipython3",
   "version": "3.7.6"
  }
 },
 "nbformat": 4,
 "nbformat_minor": 4
}
