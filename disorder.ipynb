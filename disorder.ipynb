{
 "cells": [
  {
   "cell_type": "code",
   "execution_count": 5,
   "metadata": {},
   "outputs": [],
   "source": [
    "import hmftpy as hmf\n",
    "import numpy as np\n",
    "import matplotlib.pyplot as plt\n",
    "import hmftpy as hmf\n",
    "from hmftpy.plaquettes.square import plaq4\n",
    "from hmftpy.plaquettes.triangular import plaq12\n",
    "from quspin.basis import spin_basis_1d\n",
    "from tqdm import tqdm"
   ]
  },
  {
   "cell_type": "markdown",
   "metadata": {},
   "source": [
    "First off, let's just diagonalize the AF $J_1$ XY model on a square lattice."
   ]
  },
  {
   "cell_type": "code",
   "execution_count": 11,
   "metadata": {},
   "outputs": [
    {
     "name": "stdout",
     "output_type": "stream",
     "text": [
      "ED energy with OBC: -2.828427124746183\n",
      "ED energy with PBC: -5.656854249492366\n",
      "HMFT energy: -4.109054536369159\n",
      "HMFT converged? True\n"
     ]
    }
   ],
   "source": [
    "basis = spin_basis_1d(4, pauli=0) # pauli=0 fixes the operators as spin-1/2, rather than pauli matrices\n",
    "J1 = -1\n",
    "interactions = {'nearest': {'xx': -J1, 'yy': -J1}}\n",
    "Hi = hmf.operators.inner_hamiltonian(plaq4, interactions, basis)\n",
    "e, v = Hi.eigh()\n",
    "ei = e[0]\n",
    "Hp = hmf.operators.periodic_hamiltonian(plaq4, interactions, basis)\n",
    "e, v = Hp.eigh()\n",
    "ep = e[0]\n",
    "e_hmft, v, mf, cvg = hmf.do_hmft(plaq4, interactions, basis)\n",
    "print('ED energy with OBC: {}'.format(ei))\n",
    "print('ED energy with PBC: {}'.format(ep))\n",
    "print('HMFT energy: {}'.format(e_hmft))\n",
    "print('HMFT converged? {}'.format(cvg))"
   ]
  },
  {
   "cell_type": "markdown",
   "metadata": {},
   "source": [
    "Now, let's add some disorder. How about we turn off interactions randomly. To do this, I will construct a symmetric matrix of 1s and 0s of size L by L, by first constructing a matrix of random floats in this distribution, adding its conjugate, dividing by two, and then rounding to either 0 or 1.\n",
    "\n",
    "Naively, I expect this to give something around half the initial energy, since I'm removing half the terms from the Hamiltonian. To see if that's the case, I'll average over 20 attempts.\n",
    "\n",
    "Also, to check my matrices are ok, I'll look at the average of the sum of all entries of the matrices. It should be close to 8."
   ]
  },
  {
   "cell_type": "code",
   "execution_count": 22,
   "metadata": {},
   "outputs": [
    {
     "name": "stderr",
     "output_type": "stream",
     "text": [
      "100%|██████████| 20/20 [00:00<00:00, 60.53it/s]"
     ]
    },
    {
     "name": "stdout",
     "output_type": "stream",
     "text": [
      "Average of the sum of entries in the matrices\n",
      "7.35000000016\n",
      "First matrix\n",
      "[[1.e-11 1.e+00 1.e+00 1.e-11]\n",
      " [1.e+00 1.e+00 1.e+00 1.e-11]\n",
      " [1.e+00 1.e+00 1.e-11 1.e-11]\n",
      " [1.e-11 1.e-11 1.e-11 1.e-11]]\n",
      "Average energy (OBC)\n",
      "-1.4514242570804181\n",
      "Compared to half of no-disorder energy\n",
      "-1.4142135623730916\n"
     ]
    },
    {
     "name": "stderr",
     "output_type": "stream",
     "text": [
      "\n"
     ]
    }
   ],
   "source": [
    "energies = np.zeros(20)\n",
    "rs = []\n",
    "rs_sum = np.zeros(20)\n",
    "for i in tqdm(range(20)):\n",
    "    r = np.random.rand(4,4)\n",
    "    r = np.round((r + r.T)/2) + .00000000001\n",
    "    rs += [r]\n",
    "    rs_sum[i] = np.sum(r)\n",
    "    disorder = {'nearest': {'xx': r, 'yy': r}}\n",
    "    Hi = hmf.operators.inner_hamiltonian(plaq4, interactions, basis, disorder=disorder)\n",
    "    e, v = Hi.eigh()\n",
    "    energies[i] = e[0]\n",
    "print('Average of the sum of entries in the matrices')\n",
    "print(np.mean(rs_sum))\n",
    "print('First matrix')\n",
    "print(rs[0])\n",
    "print('Average energy (OBC)')\n",
    "print(np.mean(energies))\n",
    "print('Compared to half of no-disorder energy')\n",
    "print(ei/2)"
   ]
  },
  {
   "cell_type": "markdown",
   "metadata": {},
   "source": [
    "Now, let's try the same thing with HMFT. I'll reuse each matrix so that won't change anything."
   ]
  },
  {
   "cell_type": "code",
   "execution_count": 23,
   "metadata": {},
   "outputs": [
    {
     "name": "stdout",
     "output_type": "stream",
     "text": [
      "Average energy (HMFT)\n",
      "-1.9051161247134307\n",
      "Compared to half of no-disorder energy\n",
      "-1.0422826626538397\n"
     ]
    }
   ],
   "source": [
    "energies_hmft = np.zeros(20)\n",
    "e_hmft,v, mf,cvg = hmf.do_hmft(plaq4, interactions, basis, disorder=disorder)\n",
    "cvgs = [False for i in range(20)]\n",
    "for i, r in enumerate(rs):\n",
    "    disorder = {'nearest': {'xx': r, 'yy': r}}\n",
    "    energies_hmft[i], v, mf, cvgs[i] = hmf.do_hmft(plaq4, interactions, basis, disorder=disorder)\n",
    "print('Average energy (HMFT)')\n",
    "print(np.mean(energies_hmft))\n",
    "print('Compared to half of no-disorder energy')\n",
    "print(e_hmft/2)"
   ]
  },
  {
   "cell_type": "code",
   "execution_count": null,
   "metadata": {},
   "outputs": [],
   "source": []
  }
 ],
 "metadata": {
  "kernelspec": {
   "display_name": "Python 3",
   "language": "python",
   "name": "python3"
  },
  "language_info": {
   "codemirror_mode": {
    "name": "ipython",
    "version": 3
   },
   "file_extension": ".py",
   "mimetype": "text/x-python",
   "name": "python",
   "nbconvert_exporter": "python",
   "pygments_lexer": "ipython3",
   "version": "3.7.6"
  }
 },
 "nbformat": 4,
 "nbformat_minor": 4
}
