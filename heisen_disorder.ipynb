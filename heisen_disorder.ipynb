{
 "cells": [
  {
   "cell_type": "code",
   "execution_count": null,
   "metadata": {},
   "outputs": [],
   "source": [
    "import hmftpy as hmf\n",
    "from hmftpy.plaquettes.triangular import plaq12, plaq12z, plaq9p, plaq9d, plaq3\n",
    "from hmftpy.operators import mf_ops, inner_hamiltonian, periodic_hamiltonian\n",
    "from hmftpy import do_hmft\n",
    "from hmftpy.hmf import get_mfs\n",
    "from hmftpy.plot_spins import draw_tri_lattice, draw_cluster, plot_spins\n",
    "from quspin.basis import spin_basis_1d\n",
    "from quspin.operators import quantum_operator\n",
    "from tqdm import tqdm\n",
    "import matplotlib.pyplot as plt\n",
    "import numpy as np\n",
    "\n",
    "plaq = plaq12\n",
    "L = plaq['L']\n",
    "basis = spin_basis_1d(L, pauli=0, Nup=(5,6,7))\n",
    "\n",
    "ops = hmf.operators.mf_ops(plaq, basis)\n",
    "maxit=50\n",
    "\n",
    "def ni_op(plaq, basis):\n",
    "    A, B, C = plaq['n_nearest_sublattice']\n",
    "    a_op = quantum_operator({'static': [['x', [[1/len(A), j] for j in A]]]}, basis=basis, check_symm=False, check_herm=False)\n",
    "    b_op = quantum_operator({'static': [['x', [[-0.5/len(B), j] for j in B]],\n",
    "                                        ['y', [[0.5*np.sqrt(3)/len(B), j] for j in B]]]}, basis=basis, check_symm=False, check_herm=False)\n",
    "    c_op = quantum_operator({'static': [['x', [[-0.5/len(C), j] for j in C]],\n",
    "                                        ['y', [[-0.5*np.sqrt(3)/len(C), j] for j in C]]]}, basis=basis, check_symm=False, check_herm=False)\n",
    "    return a_op + b_op + c_op\n",
    "\n",
    "m_op = ni_op(plaq, basis)"
   ]
  },
  {
   "cell_type": "code",
   "execution_count": null,
   "metadata": {},
   "outputs": [],
   "source": [
    "steps = 30\n",
    "l = 9\n",
    "alphas = np.linspace(0.4, .6, l)\n",
    "print(alphas)\n",
    "energies = np.zeros((l, steps))\n",
    "Nis = np.zeros((l, steps))\n",
    "Ni2s = np.zeros((l, steps))\n",
    "\n",
    "J2s = np.linspace(-.1, 0.1, steps)\n",
    "mf0s = [None for i in range(l)]\n",
    "\n",
    "def couplings(J2, alpha=0):\n",
    "    interactions = {'local': {},\n",
    "                    'nearest': {'xx': 1, 'yy': 1, 'zz': alpha},\n",
    "                    'n_nearest': {'xx': J2, 'yy': J2, 'zz': alpha*J2},\n",
    "                    'n_n_nearest': {}}\n",
    "    return interactions"
   ]
  },
  {
   "cell_type": "code",
   "execution_count": null,
   "metadata": {},
   "outputs": [],
   "source": [
    "for i, J2 in enumerate(tqdm(J2s, ascii=True)):\n",
    "    for j, alpha in enumerate(alphas):\n",
    "        interactions = couplings(J2, alpha)\n",
    "        energies[j,i], v, mf0s[j], cvg = do_hmft(plaq, interactions, basis, \n",
    "                                                max_iter=maxit, mf0=mf0s[j],\n",
    "                                                ops=ops,\n",
    "                                                mf_cvg=False, every_other=True)\n",
    "        Nis[j,i] = np.real(m_op.matrix_ele(v, v))\n",
    "        Ni2s[j,i] = np.real(m_op.matrix_ele(v, m_op.dot(v)))"
   ]
  },
  {
   "cell_type": "code",
   "execution_count": null,
   "metadata": {},
   "outputs": [],
   "source": [
    "plt.figure(figsize=(4,3), dpi=200)\n",
    "for j, alpha in enumerate(alphas):\n",
    "    if 0.1 < alpha < 0.8:\n",
    "        plt.plot(J2s, np.gradient(energies[j,:], J2s), label=np.round(alpha, 2))\n",
    "plt.legend()\n",
    "plt.show()"
   ]
  },
  {
   "cell_type": "code",
   "execution_count": null,
   "metadata": {},
   "outputs": [],
   "source": [
    "plt.figure(figsize=(4,3), dpi=200)\n",
    "for j, alpha in enumerate(alphas):\n",
    "    if 0.1 < alpha < 0.8:\n",
    "        plt.plot(J2s, np.abs(Nis[j,:]), label=np.round(alpha, 1))\n",
    "plt.legend()\n",
    "plt.show()"
   ]
  },
  {
   "cell_type": "code",
   "execution_count": null,
   "metadata": {},
   "outputs": [],
   "source": []
  }
 ],
 "metadata": {
  "kernelspec": {
   "display_name": "Python 3",
   "language": "python",
   "name": "python3"
  },
  "language_info": {
   "codemirror_mode": {
    "name": "ipython",
    "version": 3
   },
   "file_extension": ".py",
   "mimetype": "text/x-python",
   "name": "python",
   "nbconvert_exporter": "python",
   "pygments_lexer": "ipython3",
   "version": "3.7.4"
  }
 },
 "nbformat": 4,
 "nbformat_minor": 4
}
