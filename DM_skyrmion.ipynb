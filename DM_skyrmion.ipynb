{
 "cells": [
  {
   "cell_type": "code",
   "execution_count": null,
   "metadata": {},
   "outputs": [],
   "source": [
    "import numpy as np\n",
    "import matplotlib.pyplot as plt\n",
    "from quspin.basis import spin_basis_1d\n",
    "from quspin.operators import quantum_operator\n",
    "from hmftpy.operators import periodic_hamiltonian\n",
    "from tqdm import tqdm\n",
    "\n",
    "from hmftpy.plaquettes.triangular import plaq3, plaq12, plaq19"
   ]
  },
  {
   "cell_type": "markdown",
   "metadata": {},
   "source": [
    "# Hamiltonian\n",
    "Here, we consider the Hamiltonian\n",
    "\\begin{align*}\n",
    "    H = &\\sum_{\\langle i, j\\rangle} \\vec D_{ij} \\cdot \\left(\\vec \\sigma_i \\times\\vec \\sigma_j\\right)\n",
    "        + \\sum_{\\langle i, j\\rangle} J_{ij} \\vec \\sigma_i \\cdot \\vec \\sigma_j\n",
    "        + B \\sum_i \\sigma_i^z.\n",
    "\\end{align*}\n",
    "where $\\vec D_{ij}=D\\hat z$ for nearest-neighbor bonds $\\langle i,j \\rangle$ and zero elsewise, and similarly $J_{ij}=J$ for $\\langle i, j\\rangle$ nearest-neighbors. For now, I will set $B=0$.\n",
    "\n",
    "\n",
    "Nvmnd it's a JK! The paper I'm duplicating ([this one](https://journals.aps.org/prb/abstract/10.1103/PhysRevB.103.L060404)) orients $\\vec D_{ij}$ to be perpendicular to the direction (in the plane of the lattice) of the bond between sites $i$ and $j$.\n",
    "\n",
    "The triangular lattice has primitive vectors\n",
    "\\begin{equation}\n",
    "\\vec a_1 = \\begin{pmatrix} 1 \\\\ 0 \\end{pmatrix},\n",
    "\\quad\n",
    "\\vec a_2 = \\begin{pmatrix} \\frac{1}{2} \\\\ \\frac{\\sqrt{3}}{2} \\end{pmatrix}.\n",
    "\\end{equation}\n",
    "Each site on the lattice is connected to its six nearest neighbors by a linear combination of these vectors.\n",
    "\n",
    "In my code, I refer to bonds aligned with $a_1$ as $x$ bonds, $a_2$ as $z$ bonds, and $a_2-a_1$ as $y$ bonds.\n",
    "The perpendicular directions to these (with a particular sign choice so all perpendicular arrows point out of the\n",
    "upright triangles) are\n",
    "\\begin{align*}\n",
    "\\hat x_\\perp =& \\begin{pmatrix} 0 \\\\ -1 \\end{pmatrix}\\\\\n",
    "\\hat y_\\perp =& \\begin{pmatrix} -\\frac{\\sqrt 3}{2} \\\\ \\frac{1}{2} \\end{pmatrix} \\\\\n",
    "\\hat z_\\perp =& \\begin{pmatrix} \\frac{\\sqrt 3}{2} \\\\ \\frac{1}{2} \\end{pmatrix}\n",
    "\\end{align*}"
   ]
  },
  {
   "cell_type": "code",
   "execution_count": null,
   "metadata": {},
   "outputs": [],
   "source": [
    "u = np.array([1,0])\n",
    "up = np.array([0,-1])\n",
    "\n",
    "v = np.array([-0.5, np.sqrt(3)/2])\n",
    "vp = np.array([np.sqrt(3)/2, 0.5])\n",
    "\n",
    "w = np.array([0.5, np.sqrt(3)/2])\n",
    "wp = np.array([-np.sqrt(3)/2, 0.5])\n",
    "\n",
    "x = np.array([1,0])\n",
    "y = np.array([0,1])"
   ]
  },
  {
   "cell_type": "code",
   "execution_count": null,
   "metadata": {},
   "outputs": [],
   "source": [
    "# general code\n",
    "def s_interactions(h, J, D):\n",
    "    interactions = {'local': {'z': -h},\n",
    "                    'x_bonds': {'yz': D*np.vdot(x, up), \n",
    "                                'zy': -D*np.vdot(x, up),\n",
    "                                'zx': D*np.vdot(y, up),\n",
    "                                'xz': -D*np.vdot(y, up),\n",
    "                                'xx': J, 'yy': J, 'zz': J},\n",
    "                    'y_bonds': {'yz': D*np.vdot(x, vp), \n",
    "                                'zy': -D*np.vdot(x, vp),\n",
    "                                'zx': D*np.vdot(y, vp),\n",
    "                                'xz': -D*np.vdot(y, vp),\n",
    "                                'xx': J, 'yy': J, 'zz': J},\n",
    "                    'z_bonds': {'yz': D*np.vdot(x, wp), \n",
    "                                'zy': -D*np.vdot(x, wp),\n",
    "                                'zx': D*np.vdot(y, wp),\n",
    "                                'xz': -D*np.vdot(y, wp),\n",
    "                                'xx': J, 'yy': J, 'zz': J}}\n",
    "    return interactions\n",
    "\n",
    "\n",
    "def Mz_op(L, basis):\n",
    "    return quantum_operator({'static': [['z', [[1./L, i] for i in range(L)]]]}, \n",
    "                            basis=basis)\n",
    "\n",
    "def chi_op(tris, basis):\n",
    "    l = len(tris)\n",
    "    n = 1./l\n",
    "    return quantum_operator({'static': [['xyz', [[n,t[0],t[1],t[2]] for t in tris]],\n",
    "                                        ['xzy', [[-n,t[0],t[1],t[2]] for t in tris]],\n",
    "                                        ['yzx', [[n,t[0],t[1],t[2]] for t in tris]],\n",
    "                                        ['yxz', [[-n,t[0],t[1],t[2]] for t in tris]],\n",
    "                                        ['zxy', [[n,t[0],t[1],t[2]] for t in tris]],\n",
    "                                        ['zyx', [[-n,t[0],t[1],t[2]] for t in tris]]]}, \n",
    "                            basis=basis)"
   ]
  },
  {
   "cell_type": "markdown",
   "metadata": {},
   "source": [
    "# 3-site cluster\n",
    "\n",
    "First, let's just write the vectors for the bonds on our 3-site cluster below:\n",
    "\n",
    "            <0>-<1>-<2>\n",
    "            / \\ / \\ / \\\n",
    "          <1>- 2 -<0>-<1>\n",
    "          / \\ / \\ / \\ /\n",
    "        <2>- 0 - 1 -<2>-\n",
    "          \\ / \\ / \\ / \\\n",
    "          <1>-<2>-<0>-<1>\n",
    "          \n",
    "The ones within the cluster are:\n",
    "\\begin{align}\n",
    "\\vec r_{01}^0 = \\vec a_1, \\quad\n",
    "\\vec r_{12}^0 = \\vec a_2 - \\vec a_1, \\quad\n",
    "\\vec r_{20}^0 = -\\vec a_2.\n",
    "\\end{align}\n",
    "Each pair of nearest-neighbors in the lattice is connected by one of these vectors! I'm going to give these directions names:\n",
    "\\begin{align}\n",
    "\\hat u =& \\vec a_1\\\\\n",
    "\\hat v =& \\vec a_2-\\vec a_1\\\\\n",
    "\\hat w =& -\\vec a_2\n",
    "\\end{align}"
   ]
  },
  {
   "cell_type": "markdown",
   "metadata": {},
   "source": [
    "I'm going to make a list of the bonds in our three site cluster and a corresponding list of the directions perpendicular to those bonds:"
   ]
  },
  {
   "cell_type": "code",
   "execution_count": null,
   "metadata": {},
   "outputs": [],
   "source": [
    "steps = 20\n",
    "hs = np.linspace(0, 3, steps)\n",
    "D = 1\n",
    "J = -0.5\n",
    "basis = spin_basis_1d(3, pauli=0)\n",
    "es = np.zeros(steps)\n",
    "vs = np.zeros((steps, basis.Ns), dtype=np.complex128)\n"
   ]
  },
  {
   "cell_type": "code",
   "execution_count": null,
   "metadata": {},
   "outputs": [],
   "source": [
    "for i, h in enumerate(tqdm(hs)):\n",
    "    interactions = s_interactions(h, J, D)\n",
    "    H = periodic_hamiltonian(plaq3, interactions, basis)\n",
    "    e, v = H.eigh()\n",
    "    es[i] = e[0]\n",
    "    vs[i] = v[:,0]"
   ]
  },
  {
   "cell_type": "code",
   "execution_count": null,
   "metadata": {},
   "outputs": [],
   "source": [
    "mz = Mz_op(3, basis)\n",
    "tris = [[0,1,2], [1,2,0], [2,0,1]]\n",
    "chi = chi_op(tris, basis)"
   ]
  },
  {
   "cell_type": "code",
   "execution_count": null,
   "metadata": {},
   "outputs": [],
   "source": [
    "plt.figure(figsize=(4,3), dpi=300)\n",
    "plt.plot(hs, es/3, label=r'$e$')\n",
    "plt.plot(hs, [mz.expt_value(vs[i]).real for i in range(steps)], label=r'$M_z$')\n",
    "plt.plot(hs, [chi.expt_value(vs[i]).real for i in range(steps)], label=r'$\\chi$')\n",
    "plt.xlabel('h')\n",
    "plt.legend()\n",
    "plt.show()"
   ]
  },
  {
   "cell_type": "markdown",
   "metadata": {},
   "source": [
    "Well, that's boring! How about we move to a larger cluster?\n",
    "\n",
    "I know that the 12-site cluster below is usefull because it preserves both rotational and sublattice symmetries, and it's small enough to be easy to work with.\n",
    "\n",
    "                <4>-<5>\n",
    "                / \\ / \\\n",
    "          <9>-<0>-<1>-<2>-<7>\n",
    "            \\ / \\ / \\ / \\ /\n",
    "        <5>-<6>-10 -11 -<3>-<4>\n",
    "          \\ / \\ / \\ / \\ / \\ /\n",
    "      <1>-<2>- 7 - 8 - 9 -<0>-<1>\n",
    "        \\ / \\ / \\ / \\ / \\ / \\ /\n",
    "    <10-<11- 3 - 4 - 5 - 6 -<10-<11\n",
    "      \\ / \\ / \\ / \\ / \\ / \\ / \\ /\n",
    "      <8>-<9>- 0 - 1 - 2 -<7>-<8>\n",
    "          / \\ / \\ / \\ / \\ / \\\n",
    "        <5>-<6>-<10-<11-<3>-<4>\n",
    "              \\ / \\ / \\ /\n",
    "              <7>-<8>-<9>\n",
    "              \n"
   ]
  },
  {
   "cell_type": "markdown",
   "metadata": {},
   "source": [
    "Now, our lists of neighbors are larger! Gotta love it!"
   ]
  },
  {
   "cell_type": "code",
   "execution_count": null,
   "metadata": {},
   "outputs": [],
   "source": [
    "steps = 20\n",
    "hs = np.linspace(0, 1, steps)\n",
    "D = 1\n",
    "J = -0.5\n",
    "basis = spin_basis_1d(12, pauli=0)\n",
    "es = np.zeros(steps)\n",
    "vs = np.zeros((steps, basis.Ns), dtype=np.complex128)"
   ]
  },
  {
   "cell_type": "code",
   "execution_count": null,
   "metadata": {},
   "outputs": [],
   "source": [
    "for i, h in enumerate(tqdm(hs)):\n",
    "    interactions = s_interactions(h, J, D)\n",
    "    H = periodic_hamiltonian(plaq12, interactions, basis)\n",
    "    e, v = H.eigsh(k=1, which='SA')\n",
    "    es[i] = e[0]\n",
    "    vs[i] = v[:,0]"
   ]
  },
  {
   "cell_type": "code",
   "execution_count": null,
   "metadata": {},
   "outputs": [],
   "source": [
    "mz = Mz_op(12, basis)\n",
    "# tris = [[0,1,4], [1,2,5], [3,4,7], [4,5,8], [5,6,9], [7,8,10], [8,9,11],\n",
    "#         [2,7,6], [6,10,0], [9,0,3], [11,3,2], [10,11,1]]\n",
    "tris = [[0,4,3]]\n",
    "c = 12/np.pi\n",
    "chi = quantum_operator({'static': [['xyz', [[c,t[0],t[1],t[2]] for t in tris]],\n",
    "                                   ['xzy', [[-c,t[0],t[1],t[2]] for t in tris]],\n",
    "                                   ['yzx', [[c,t[0],t[1],t[2]] for t in tris]],\n",
    "                                   ['yxz', [[-c,t[0],t[1],t[2]] for t in tris]],\n",
    "                                   ['zxy', [[c,t[0],t[1],t[2]] for t in tris]],\n",
    "                                   ['zyx', [[-c,t[0],t[1],t[2]] for t in tris]]]}, basis=basis)"
   ]
  },
  {
   "cell_type": "code",
   "execution_count": null,
   "metadata": {},
   "outputs": [],
   "source": [
    "plt.figure(figsize=(4,3), dpi=300)\n",
    "plt.plot(hs, es/12, label=r'$e$', marker='.')\n",
    "plt.plot(hs, [mz.expt_value(vs[i]).real for i in range(steps)], label=r'$M_z$', marker='.')\n",
    "plt.plot(hs, [chi.expt_value(vs[i]).real for i in range(steps)], label=r'$\\chi$', marker='.')\n",
    "plt.xlabel('h')\n",
    "plt.legend()\n",
    "plt.show()"
   ]
  },
  {
   "cell_type": "markdown",
   "metadata": {},
   "source": [
    "# 19 site!\n",
    "          \n",
    "         <0> <1> <2>\n",
    "           \\   \\   \\  \n",
    "      <11> 16 -17 -18 -<3>\n",
    "         \\ / \\ / \\ / \\  \n",
    "     <6> 12 -13 -14 -15 -<0>\n",
    "       \\ / \\ / \\ / \\ / \\   \n",
    "        7 - 8 - 9 -10 -11 -<16\n",
    "       / \\ / \\ / \\ / \\ /  \n",
    "    <18>  3 - 4 - 5 - 6 -<12\n",
    "         / \\ / \\ / \\ /  \n",
    "      <15>  0 - 1 - 2 -<7\n",
    "           /   /   /\n",
    "        <11 <16 <17 \n",
    "        \n",
    "It's this one!"
   ]
  },
  {
   "cell_type": "code",
   "execution_count": null,
   "metadata": {},
   "outputs": [],
   "source": [
    "steps = 15\n",
    "hs = np.linspace(0, 1, steps)\n",
    "D = 1\n",
    "J = -0.5\n",
    "basis = spin_basis_1d(19, pauli=0)\n",
    "es = np.zeros(steps)\n",
    "vs = np.zeros((steps, basis.Ns), dtype=np.complex128)"
   ]
  },
  {
   "cell_type": "code",
   "execution_count": null,
   "metadata": {},
   "outputs": [],
   "source": [
    "for i, h in enumerate(tqdm(hs)):\n",
    "    interactions = s_interactions(h, J, D)\n",
    "    H = periodic_hamiltonian(plaq19, interactions, basis)\n",
    "    e, v = H.eigsh(k=1, which='SA', tol=10**-8)\n",
    "    es[i] = e[0]\n",
    "    vs[i] = v[:,0]"
   ]
  },
  {
   "cell_type": "code",
   "execution_count": null,
   "metadata": {},
   "outputs": [],
   "source": [
    "mz = Mz_op(19, basis)\n",
    "tris = [[1,2,5]]\n",
    "# tries = [[3,0,4], [1,2,5]]\n",
    "# tris = [[0,1,4], [1,2,5], [3,4,8], [4,5,9], [5,6,10], \n",
    "#         [7,8,12], [8,9,13], [9,10,14], [10,11,15], [12,13,16], [13,14,17], [14,15,18],\n",
    "#         [2,7,6], [6,12,11], [11,16,0], [15,0,3], [17,18,2], [16,17,1], [18,3,7]] \n",
    "c = 19/np.pi\n",
    "# c = 1/np.pi\n",
    "chi = quantum_operator({'static': [['xyz', [[c,t[0],t[1],t[2]] for t in tris]],\n",
    "                                   ['xzy', [[-c,t[0],t[1],t[2]] for t in tris]],\n",
    "                                   ['yzx', [[c,t[0],t[1],t[2]] for t in tris]],\n",
    "                                   ['yxz', [[-c,t[0],t[1],t[2]] for t in tris]],\n",
    "                                   ['zxy', [[c,t[0],t[1],t[2]] for t in tris]],\n",
    "                                   ['zyx', [[-c,t[0],t[1],t[2]] for t in tris]]]}, basis=basis)"
   ]
  },
  {
   "cell_type": "code",
   "execution_count": null,
   "metadata": {},
   "outputs": [],
   "source": [
    "plt.figure(figsize=(4,3), dpi=300)\n",
    "# plt.plot(hs, es/12, label=r'$e$', marker='.')\n",
    "plt.plot(hs, [mz.expt_value(vs[i]).real for i in range(steps)], label=r'$M_z$', marker='.')\n",
    "plt.xlabel('h')\n",
    "plt.legend()\n",
    "plt.show()\n",
    "\n",
    "plt.figure(figsize=(4,3), dpi=300)\n",
    "plt.plot(hs, [chi.expt_value(vs[i]).real for i in range(steps)], label=r'$\\chi$', marker='.')\n",
    "plt.xlabel('h')\n",
    "plt.legend()\n",
    "plt.show()"
   ]
  }
 ],
 "metadata": {
  "kernelspec": {
   "display_name": "Python 3",
   "language": "python",
   "name": "python3"
  },
  "language_info": {
   "codemirror_mode": {
    "name": "ipython",
    "version": 3
   },
   "file_extension": ".py",
   "mimetype": "text/x-python",
   "name": "python",
   "nbconvert_exporter": "python",
   "pygments_lexer": "ipython3",
   "version": "3.7.6"
  }
 },
 "nbformat": 4,
 "nbformat_minor": 4
}
