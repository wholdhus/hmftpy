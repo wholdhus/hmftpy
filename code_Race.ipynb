{
 "cells": [
  {
   "cell_type": "code",
   "execution_count": null,
   "metadata": {},
   "outputs": [],
   "source": [
    "import hmftpy as hmf\n",
    "from hmftpy.plaquettes.triangular import plaq12, plaq12z, plaq9p, plaq9d, plaq3\n",
    "from hmftpy.operators import mf_ops, inner_hamiltonian, periodic_hamiltonian\n",
    "from hmftpy import do_hmft\n",
    "from hmftpy.hmf import get_mfs\n",
    "from hmftpy.plot_spins import draw_tri_lattice, draw_cluster, plot_spins\n",
    "from quspin.basis import spin_basis_1d\n",
    "from quspin.operators import quantum_operator\n",
    "from tqdm import tqdm\n",
    "import matplotlib.pyplot as plt\n",
    "import numpy as np\n",
    "\n",
    "plaq = plaq12\n",
    "L = plaq['L']\n",
    "basis = spin_basis_1d(L, pauli=0)\n",
    "\n",
    "ops = hmf.operators.mf_ops(plaq, basis)\n",
    "maxit=50"
   ]
  },
  {
   "cell_type": "code",
   "execution_count": null,
   "metadata": {},
   "outputs": [],
   "source": [
    "steps = 60\n",
    "\n",
    "energies = {'c1': np.zeros(steps), 'c2': np.zeros(steps), 'm1': np.zeros(steps)}\n",
    "J2s = np.linspace(1, 0.25, steps)\n",
    "mf0s = {'c1': None, 'c2': None, 'm1': None, 'inner': None}\n",
    "cvgs = {'c1': [False for i in range(steps)], \n",
    "        'c2': [False for i in range(steps)],\n",
    "        'm1': [False for i in range(steps)],\n",
    "        'inner': [False for i in range(steps)]\n",
    "       }\n",
    "\n",
    "def couplings(J2, alpha=0, h=0):\n",
    "    interactions = {'local': {'x': h},\n",
    "                    'nearest': {'xx': 1, 'yy': 1, 'zz': alpha},\n",
    "                    'n_nearest': {'xx': J2, 'yy': J2, 'zz': alpha*J2},\n",
    "                    'n_n_nearest': {}}\n",
    "    return interactions"
   ]
  },
  {
   "cell_type": "code",
   "execution_count": null,
   "metadata": {},
   "outputs": [],
   "source": [
    "v0 = None\n",
    "mf0s['m1'] = None\n",
    "for i, J2 in enumerate(tqdm(J2s, ascii=True)):\n",
    "    interactions = couplings(J2, alpha=1, h=0)\n",
    "    energies['m1'][i], v, mf, cvgs['m1'][i] = do_hmft(plaq, interactions, basis, \n",
    "                                            max_iter=maxit, mf0=mf0s['m1'],\n",
    "                                            ops=ops,\n",
    "                                            mf_cvg=True, every_other=True, hmft_tol=10**-10,\n",
    "                                            v0=v0)\n",
    "    # if J2 > 0.5:\n",
    "    mf0s['m1'] = mf\n",
    "    if np.sum(np.abs(mf['x'])) + np.sum(np.abs(mf['y'])) < 10**-8:\n",
    "        print('Zero mean field at {}'.format(J2))\n",
    "        # break\n",
    "    v0 = v"
   ]
  },
  {
   "cell_type": "code",
   "execution_count": null,
   "metadata": {},
   "outputs": [],
   "source": [
    "energies['inner'] = np.zeros(steps)         \n",
    "for i, J2 in enumerate(tqdm(J2s, ascii=True)):\n",
    "    interactions = couplings(J2, alpha=1, h=0)\n",
    "    h = inner_hamiltonian(plaq, interactions, basis, every_other=True)\n",
    "    e, v = h.eigsh(k=1, which='SA')\n",
    "    energies['inner'][i] = e[0]"
   ]
  },
  {
   "cell_type": "markdown",
   "metadata": {},
   "source": [
    "# Looking at how shit works"
   ]
  },
  {
   "cell_type": "code",
   "execution_count": null,
   "metadata": {},
   "outputs": [],
   "source": [
    "plt.figure(figsize=(4,3), dpi=200)\n",
    "plt.scatter(J2s[cvgs['m1']], energies['m1'][cvgs['m1']], marker='.')\n",
    "plt.plot(J2s, energies['inner'])"
   ]
  },
  {
   "cell_type": "code",
   "execution_count": null,
   "metadata": {},
   "outputs": [],
   "source": []
  }
 ],
 "metadata": {
  "kernelspec": {
   "display_name": "Python 3",
   "language": "python",
   "name": "python3"
  },
  "language_info": {
   "codemirror_mode": {
    "name": "ipython",
    "version": 3
   },
   "file_extension": ".py",
   "mimetype": "text/x-python",
   "name": "python",
   "nbconvert_exporter": "python",
   "pygments_lexer": "ipython3",
   "version": "3.7.6"
  }
 },
 "nbformat": 4,
 "nbformat_minor": 4
}
