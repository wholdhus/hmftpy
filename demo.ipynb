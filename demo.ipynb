{
 "cells": [
  {
   "cell_type": "code",
   "execution_count": null,
   "metadata": {},
   "outputs": [],
   "source": [
    "import hmftpy as hmf\n",
    "import numpy as np\n",
    "import matplotlib.pyplot as plt\n",
    "from hmftpy.plaquettes.square import plaq4\n",
    "from hmftpy.plaquettes.triangular import plaq12\n",
    "from quspin.basis import spin_basis_1d\n",
    "from tqdm import tqdm"
   ]
  },
  {
   "cell_type": "markdown",
   "metadata": {},
   "source": [
    "# Example 1: Antiferromagnetic J1-J2 XY interaction with an external magnetic field\n",
    "Here, we construct the Hamiltonian\n",
    "\\begin{equation}\n",
    "    H = -h \\sum_i \\sigma_i^z - J_1\\sum_{\\langle i, j\\rangle} \\left(\n",
    "    \\sigma_i^x \\sigma_j^x + \\sigma_i^y \\sigma_j^y\\right)\n",
    "    - J_2\\sum_{\\langle \\langle i, j\\rangle\\rangle} \\left(\n",
    "    \\sigma_i^x \\sigma_j^x + \\sigma_i^y \\sigma_j^y\n",
    "    \\right)\n",
    "\\end{equation}\n",
    "on the square lattice, and compare energies from HMFT and ED with open and periodic boundary conditions (OBC and PBC, respectively) on a 4-site cluster."
   ]
  },
  {
   "cell_type": "code",
   "execution_count": null,
   "metadata": {},
   "outputs": [],
   "source": [
    "basis = spin_basis_1d(4, pauli=0) # pauli=0 fixes the operators as spin-1/2, rather than pauli matrices\n",
    "h = 1\n",
    "J1 = -1\n",
    "J2 = -0.1\n",
    "interactions = {'local': {'z': -h},\n",
    "                'nearest': {'xx': -J1, 'yy': -J1},\n",
    "                'n_nearest': {'xx': -J2, 'yy': -J2}}\n",
    "Hi = hmf.operators.inner_hamiltonian(plaq4, interactions, basis)\n",
    "e, v = Hi.eigh()\n",
    "ei = e[0]\n",
    "Hp = hmf.operators.periodic_hamiltonian(plaq4, interactions, basis)\n",
    "e, v = Hp.eigh()\n",
    "ep = e[0]\n",
    "e_hmft, v, mf, cvg = hmf.do_hmft(plaq4, interactions, basis)\n",
    "print('ED energy with OBC: {}'.format(ei))\n",
    "print('ED energy with PBC: {}'.format(ep))\n",
    "print('HMFT energy: {}'.format(e_hmft))\n",
    "print('HMFT converged? {}'.format(cvg))"
   ]
  },
  {
   "cell_type": "markdown",
   "metadata": {},
   "source": [
    "# Example 2: $J_1$-$J_2$-$J_3$ Heisenberg on triangular lattice\n",
    "Now, let's do\n",
    "\\begin{equation}\n",
    "    H = -h \\sum_i \\sigma_i^z \n",
    "    - J_1\\sum_{\\langle i, j\\rangle}\\sigma_i \\cdot \\sigma_j\n",
    "    - J_2\\sum_{\\langle\\langle i, j\\rangle\\rangle}\\sigma_i \\cdot \\sigma_j\n",
    "    - J_3\\sum_{\\langle\\langle\\langle i, j\\rangle\\rangle\\rangle}\\sigma_i \\cdot \\sigma_j\n",
    "\\end{equation}\n",
    "on the triangular lattice in a 12-site cluster. This time, we will do the ED using sparse matrices (i.e. Lanczos) and reduce our tolerances so everything runs a bit faster.\n",
    "\n",
    "To make this harder, let's set the nearest and next-next-nearest interaction to antiferromagnetic, but the next-nearest neighbor interaction to ferromagnetic."
   ]
  },
  {
   "cell_type": "code",
   "execution_count": null,
   "metadata": {},
   "outputs": [],
   "source": [
    "basis = spin_basis_1d(12, pauli=0) # pauli=0 fixes the operators as spin-1/2, rather than pauli matrices\n",
    "h = 1\n",
    "J1 = -1\n",
    "J2 = 0.2\n",
    "J3 = -0.1\n",
    "bonds = ['xx', 'yy', 'zz']\n",
    "interactions = {'local': {'z': -h},\n",
    "                'nearest': {b: -J1 for b in bonds},\n",
    "                'n_nearest': {b: -J2 for b in bonds},\n",
    "                'n_n_nearest': {b: -J3 for b in bonds}}\n",
    "Hi = hmf.operators.inner_hamiltonian(plaq12, interactions, basis, verbose=False)\n",
    "ei, vi = Hi.eigsh(k=1, which='SA')\n",
    "Hp = hmf.operators.periodic_hamiltonian(plaq12, interactions, basis, verbose=False)\n",
    "ep, vp = Hp.eigsh(k=1, which='SA')\n",
    "e_hmft, v, mf, cvg = hmf.do_hmft(plaq12, interactions, basis, lanczos_tol=10**-12, hmft_tol=10**-9)\n",
    "print('ED energy with OBC: {}'.format(ei[0]))\n",
    "print('ED energy with PBC: {}'.format(ep[0]))\n",
    "print('HMFT energy: {}'.format(e_hmft))\n",
    "print('HMFT converged? {}'.format(cvg))"
   ]
  },
  {
   "cell_type": "markdown",
   "metadata": {},
   "source": [
    "Sometimes, the HMFT doesn't converge. This can be helped by giving it initial mean fields closer to the solution. We can either use mean-fields from other HMFT solutions:"
   ]
  },
  {
   "cell_type": "code",
   "execution_count": null,
   "metadata": {},
   "outputs": [],
   "source": [
    "mf_ops = hmf.operators.mf_ops(plaq12, basis) # constructing operators that measure mean-field\n",
    "mfs_obc = hmf.hmf.get_mfs(vi[:,0], mf_ops)\n",
    "e_hmft_obc, v, mf, cvg = hmf.do_hmft(plaq12, interactions, basis, mf0=mfs_obc,\n",
    "                                    lanczos_tol=10**-12, hmft_tol=10**-9)\n",
    "print('HMFT energy from OBC seed: {}'.format(e_hmft_obc))\n",
    "print('HMFT converged? {}'.format(cvg))\n",
    "mfs_pbc = hmf.hmf.get_mfs(vp[:,0], mf_ops)\n",
    "e_hmft_pbc, v, mf, cvg = hmf.do_hmft(plaq12, interactions, basis, mf0=mfs_pbc,\n",
    "                                     lanczos_tol=10**-12, hmft_tol=10**-9)\n",
    "print('HMFT energy from PBC seed: {}'.format(e_hmft_obc))\n",
    "print('HMFT converged? {}'.format(cvg))"
   ]
  },
  {
   "cell_type": "markdown",
   "metadata": {},
   "source": [
    "That converged, but it converged by setting the mean-fields to zero, giving us the OBC result!\n",
    "\n",
    "Let's try something else: we'll start with $J_3=0$ and iterate solutions while increasing $J_3$. This is also a good technique to use if you want to see the effect of gradually turning on or changing an interaction, since it keeps the HMFT solution focused on adiabatically connected solutions in cases where there's degeneracy."
   ]
  },
  {
   "cell_type": "code",
   "execution_count": null,
   "metadata": {},
   "outputs": [],
   "source": [
    "J3s = np.linspace(0, -0.1, 10)[::-1]\n",
    "energies = np.zeros(10)\n",
    "energies_pbc = np.zeros(10)\n",
    "energies_obc = np.zeros(10)\n",
    "cvgs = [False for i in range(10)]\n",
    "mf0 = None # so we use a random seed for the initial step\n",
    "for i, J3 in enumerate(tqdm(J3s)):\n",
    "    bonds = ['xx', 'yy', 'zz']\n",
    "    interactions = {'local': {'z': -h},\n",
    "                    'nearest': {b: -J1 for b in bonds},\n",
    "                    'n_nearest': {b: -J2 for b in bonds},\n",
    "                    'n_n_nearest': {b: -J3 for b in bonds}}\n",
    "    energies[i], v, mf0, cvgs[i] = hmf.do_hmft(plaq12, interactions, basis, mf0=mf0,\n",
    "                                               lanczos_tol=10**-12, hmft_tol=10**-9,\n",
    "                                               ops=mf_ops, Hi=Hi) # Reusing operators speads this up\n",
    "    Hi = hmf.operators.inner_hamiltonian(plaq12, interactions, basis, verbose=False)\n",
    "    e, v = Hi.eigsh(k=1, which='SA')\n",
    "    energies_obc[i] = e\n",
    "    Hp = hmf.operators.periodic_hamiltonian(plaq12, interactions, basis, verbose=False)\n",
    "    e, v = Hp.eigsh(k=1, which='SA')\n",
    "    energies_pbc[i] = e\n",
    "print('Final energy: {}'.format(energies[-1]))\n",
    "print('Converged? {}'.format(cvgs[-1]))"
   ]
  },
  {
   "cell_type": "markdown",
   "metadata": {},
   "source": [
    "That gave us a converged solution with energy lower than the OBC situation. Let's plot these energies as a function of $J_3$, comparing to the OBC and PBC ED results."
   ]
  },
  {
   "cell_type": "code",
   "execution_count": null,
   "metadata": {},
   "outputs": [],
   "source": [
    "plt.figure(figsize=(4,3), dpi=200)\n",
    "plt.scatter(J3s, energies_obc, label='OBC')\n",
    "plt.scatter(J3s, energies_pbc, label='PBC')\n",
    "plt.scatter(J3s, energies, label='HMFT')\n",
    "plt.legend()\n",
    "plt.xlabel(r'$J_3$')\n",
    "plt.ylabel(r'$E$')\n",
    "plt.show()"
   ]
  },
  {
   "cell_type": "markdown",
   "metadata": {},
   "source": [
    "While we're drawing pictures, how about we plot spin orientations? Conveniently, I've already measured all components of\n",
    "$\\vec \\sigma_i$ to calculte my mean-fields. Now we just need to encode all the geometry of the lattice."
   ]
  },
  {
   "cell_type": "code",
   "execution_count": null,
   "metadata": {},
   "outputs": [],
   "source": [
    "import matplotlib\n",
    "cm = matplotlib.cm.magma\n",
    "norm = matplotlib.colors.Normalize(vmin=-0.5, vmax=0.5)\n",
    "\n",
    "az = .5*np.sqrt(3) # vertical displacement for equilateral triangles\n",
    "\n",
    "def draw_tri_lattice(r0, Lx, Ly, color='lightgray'):\n",
    "    x0, y0 = r0\n",
    "    x, y = x0, y0\n",
    "    for i in range(Lx):\n",
    "        for j in range(Ly):\n",
    "            xa = x + 1\n",
    "            ya = y\n",
    "            xb = x + .5\n",
    "            yb = y + az\n",
    "            plt.plot((xb, x, xa, xb), (yb, y, ya, yb), color=color, zorder=0, linewidth=1)\n",
    "            x = xa\n",
    "        if i%2 == 1:\n",
    "            x = x0\n",
    "            y = y0 + (i+1)*az\n",
    "        else:\n",
    "            x = x0 - .5\n",
    "            y = y0 + (i+1)*az\n",
    "    \n",
    "def draw_12_cluster(r0, color='purple', fill=True):\n",
    "    x0, y0 = r0\n",
    "    plt.plot((x0, x0-.5, x0, x0+.5, x0+1.5, x0+2, x0+2.5, x0+2, x0+1, x0), \n",
    "             (y0, y0+az, y0+2*az, y0+3*az, y0+3*az, y0+2*az, y0+az, y0, y0, y0), \n",
    "             color=color, zorder=1, linewidth=1)\n",
    "    if fill:\n",
    "        plt.plot((x0, x0+1.5), (y0, y0+3*az),\n",
    "                 color=color, zorder=1, linewidth=1)\n",
    "        plt.plot((x0+1, x0+2), (y0, y0+2*az),\n",
    "                 color=color, zorder=1, linewidth=1)\n",
    "        plt.plot((x0+1, x0), (y0, y0+2*az),\n",
    "                 color=color, zorder=1, linewidth=1)\n",
    "        plt.plot((x0+2, x0+.5), (y0, y0+3*az),\n",
    "                 color=color, zorder=1, linewidth=1)\n",
    "        plt.plot((x0-.5, x0+2.5), (y0+az, y0+az),\n",
    "                 color=color, zorder=1, linewidth=1)\n",
    "        plt.plot((x0, x0+2), (y0+2*az, y0+2*az),\n",
    "                 color=color, zorder=1, linewidth=1)\n",
    "\n",
    "xs = np.array([0, 1, 2, \n",
    "               -.5, .5, 1.5, 2.5, \n",
    "               0, 1, 2,\n",
    "              .5, 1.5])\n",
    "ys = np.array([0, 0, 0, az, az, az, az, 2*az, 2*az, 2*az, 3*az, 3*az])\n",
    "\n",
    "def plot_spins(mf0, r0=(0,0)):\n",
    "    x0, y0 = r0\n",
    "    zs = np.real(mf0['z'])\n",
    "    plt.quiver(xs+x0, ys+y0, mf0['x'], mf0['y'], zorder=10, color=cm(norm(zs)))\n",
    "    \n",
    "r0s = [(0,0), (3,2*az), (3,-2*az), (-3,-2*az), (-3,2*az), (0,4*az), (0,-4*az)]\n"
   ]
  },
  {
   "cell_type": "code",
   "execution_count": null,
   "metadata": {},
   "outputs": [],
   "source": [
    "plt.figure(figsize=(4,3), dpi=200)\n",
    "draw_tri_lattice((-3, -4*az), 10, 10)\n",
    "for r0 in r0s:\n",
    "    draw_12_cluster(r0, color='gray')\n",
    "    plot_spins(mf0, r0)\n",
    "plt.xlim(-2, 5)\n",
    "plt.ylim(-2, 5)\n",
    "plt.xticks([])\n",
    "plt.yticks([])\n",
    "sm = matplotlib.cm.ScalarMappable(cmap=cm, norm=norm)\n",
    "plt.colorbar(sm)"
   ]
  },
  {
   "cell_type": "code",
   "execution_count": null,
   "metadata": {},
   "outputs": [],
   "source": []
  }
 ],
 "metadata": {
  "kernelspec": {
   "display_name": "Python 3",
   "language": "python",
   "name": "python3"
  },
  "language_info": {
   "codemirror_mode": {
    "name": "ipython",
    "version": 3
   },
   "file_extension": ".py",
   "mimetype": "text/x-python",
   "name": "python",
   "nbconvert_exporter": "python",
   "pygments_lexer": "ipython3",
   "version": "3.7.6"
  }
 },
 "nbformat": 4,
 "nbformat_minor": 4
}
