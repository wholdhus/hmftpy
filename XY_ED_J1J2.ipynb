{
 "cells": [
  {
   "cell_type": "code",
   "execution_count": 1,
   "metadata": {},
   "outputs": [],
   "source": [
    "import hmftpy as hmf\n",
    "from hmftpy.plaquettes.triangular import plaq12, plaq12z, plaq9p, plaq9d, plaq3, plaq7, plaq19, test_bonds\n",
    "from hmftpy.operators import mf_ops, inner_hamiltonian, periodic_hamiltonian\n",
    "from hmftpy import do_hmft\n",
    "from hmftpy.plot_spins import draw_tri_lattice, draw_cluster, plot_spins\n",
    "from quspin.basis import spin_basis_1d\n",
    "from quspin.operators import quantum_operator\n",
    "from tqdm import tqdm\n",
    "import matplotlib.pyplot as plt\n",
    "import numpy as np\n",
    "maxit = 50"
   ]
  },
  {
   "cell_type": "code",
   "execution_count": 2,
   "metadata": {},
   "outputs": [],
   "source": [
    "def ni_op(plaq, basis):\n",
    "    A, B, C = plaq['n_nearest_sublattice']\n",
    "    a_op = quantum_operator({'static': [['x', [[1, j] for j in A]]]}, basis=basis, check_symm=False, check_herm=False)\n",
    "    b_op = quantum_operator({'static': [['x', [[-0.5, j] for j in B]],\n",
    "                                        ['y', [[0.5*np.sqrt(3), j] for j in B]]]}, basis=basis, check_symm=False, check_herm=False)\n",
    "    c_op = quantum_operator({'static': [['x', [[-0.5, j] for j in C]],\n",
    "                                        ['y', [[-0.5*np.sqrt(3), j] for j in C]]]}, basis=basis, check_symm=False, check_herm=False)\n",
    "    return a_op + b_op + c_op\n",
    "\n",
    "def ms_ops(plaq, basis, d='x'):\n",
    "    xs = plaq['x_stripes']\n",
    "    ys = plaq['y_stripes']\n",
    "    zs = plaq['z_stripes']\n",
    "    xs_op = quantum_operator({'static': [[d, [[1, j] for j in xs[0]] + [[-1, j] for j in xs[1]]\n",
    "                                         ]]}, basis=basis, check_symm=False, check_herm=False)\n",
    "    ys_op = quantum_operator({'static': [[d, [[1, j] for j in ys[0]] + [[-1, j] for j in ys[1]]\n",
    "                                         ]]}, basis=basis, check_symm=False, check_herm=False)\n",
    "    zs_op = quantum_operator({'static': [[d, [[1, j] for j in zs[0]] + [[-1, j] for j in zs[1]]\n",
    "                                         ]]}, basis=basis, check_symm=False, check_herm=False)\n",
    "    return xs_op, ys_op, zs_op"
   ]
  },
  {
   "cell_type": "code",
   "execution_count": 3,
   "metadata": {},
   "outputs": [
    {
     "name": "stdout",
     "output_type": "stream",
     "text": [
      "7 site\n",
      "9 site fish\n",
      "9 site diamond\n",
      "12 site zigzag\n",
      "12 site triangle\n"
     ]
    }
   ],
   "source": [
    "plaqs_lst = [plaq7, plaq9p, plaq9d, plaq12z, plaq12]\n",
    "bases_lst = [spin_basis_1d(plaq['L'], pauli=0) for plaq in plaqs_lst]\n",
    "ops_lst = [hmf.operators.mf_ops(plaq, bases_lst[i]) for i, plaq in enumerate(plaqs_lst)]\n",
    "steps = 50\n",
    "names = ['7 site', '9 site fish', '9 site diamond', '12 site zigzag', '12 site triangle']\n",
    "plaqs = {name: plaqs_lst[i] for i, name in enumerate(names)}\n",
    "bases = {name: bases_lst[i] for i, name in enumerate(names)}\n",
    "# ops = {name: ops_lst[i] for i, name in enumerate(names)}\n",
    "energies = {name: np.zeros(steps) for name in names}\n",
    "\n",
    "Ms_ops_x = {}\n",
    "Ms_ops_y = {}\n",
    "for name in names:\n",
    "    print(name)\n",
    "    plaq = plaqs[name]\n",
    "    basis = bases[name]\n",
    "    Ms_ops_x[name] = ms_ops(plaqs[name], bases[name], d='x')\n",
    "    Ms_ops_y[name] = ms_ops(plaqs[name], bases[name], d='y')\n",
    "Mxs = {name: np.zeros(steps) for name in names}\n",
    "Mys = {name: np.zeros(steps) for name in names}\n",
    "Mzs = {name: np.zeros(steps) for name in names}\n",
    "\n",
    "Ni_ops = {name: ni_op(plaqs[name], bases[name]) for name in names}\n",
    "Ni = {name: np.zeros(steps) for name in names}\n",
    "\n",
    "degens = {name: np.zeros(steps) for name in names}\n",
    "\n",
    "J2s = np.linspace(0, 1, steps)\n",
    "\n"
   ]
  },
  {
   "cell_type": "code",
   "execution_count": 6,
   "metadata": {},
   "outputs": [
    {
     "name": "stderr",
     "output_type": "stream",
     "text": [
      "100%|██████████| 50/50 [01:22<00:00,  1.64s/it]\n"
     ]
    }
   ],
   "source": [
    "for i, J2 in enumerate(tqdm(J2s)):\n",
    "    interactions = {'nearest': {'xx': 1, 'yy': 1},\n",
    "                    'n_nearest': {'xx': J2, 'yy': J2}}\n",
    "    for n in names:\n",
    "        Hi = inner_hamiltonian(plaqs[n], interactions, bases[n])\n",
    "        e, v = Hi.eigsh(k=10, which='SA')\n",
    "        ei = np.argmin(e)\n",
    "        \n",
    "        energies[n][i] = np.min(e)\n",
    "        degens[n][i] = len(e[np.abs(e-np.min(e)) < 10**-10])\n",
    "        v0 = v[:,ei]\n",
    "        \n",
    "        Ni[n][i] = np.real(np.vdot(v0, Ni_ops[n].dot(Ni_ops[n].dot(v0))))\n",
    "        \n",
    "        Mxs[n][i] = np.real(np.vdot(v0, Ms_ops_x[n][0].dot(Ms_ops_x[n][0].dot(v0))))\n",
    "        Mys[n][i] = np.real(np.vdot(v0, Ms_ops_x[n][1].dot(Ms_ops_x[n][1].dot(v0))))\n",
    "        Mzs[n][i] = np.real(np.vdot(v0, Ms_ops_x[n][2].dot(Ms_ops_x[n][2].dot(v0))))\n"
   ]
  },
  {
   "cell_type": "code",
   "execution_count": null,
   "metadata": {},
   "outputs": [
    {
     "name": "stderr",
     "output_type": "stream",
     "text": [
      "  0%|          | 0/5 [00:00<?, ?it/s]"
     ]
    },
    {
     "name": "stdout",
     "output_type": "stream",
     "text": [
      "Hamiltonian formed\n"
     ]
    },
    {
     "name": "stderr",
     "output_type": "stream",
     "text": [
      " 20%|██        | 1/5 [00:26<01:45, 26.32s/it]"
     ]
    },
    {
     "name": "stdout",
     "output_type": "stream",
     "text": [
      "Hamiltonian diagonalized\n",
      "Hamiltonian formed\n"
     ]
    },
    {
     "name": "stderr",
     "output_type": "stream",
     "text": [
      " 40%|████      | 2/5 [01:22<01:45, 35.30s/it]"
     ]
    },
    {
     "name": "stdout",
     "output_type": "stream",
     "text": [
      "Hamiltonian diagonalized\n",
      "Hamiltonian formed\n"
     ]
    },
    {
     "name": "stderr",
     "output_type": "stream",
     "text": [
      " 60%|██████    | 3/5 [02:28<01:29, 44.63s/it]"
     ]
    },
    {
     "name": "stdout",
     "output_type": "stream",
     "text": [
      "Hamiltonian diagonalized\n"
     ]
    }
   ],
   "source": [
    "J2s_lrg = np.linspace(0, 1, 5)\n",
    "Mxs_19 = np.zeros(5)\n",
    "Mys_19 = np.zeros(5)\n",
    "Mzs_19 = np.zeros(5)\n",
    "Ni_19 = np.zeros(5)\n",
    "energies_19 = np.zeros(5)\n",
    "b19 = spin_basis_1d(19, pauli=0)\n",
    "\n",
    "Ms_ops_x_19 = ms_ops(plaq19, b19, d='x')\n",
    "Ni_op_19 = ni_op(plaq19, b19)\n",
    "\n",
    "\n",
    "rn = 1\n",
    "rnn = np.sqrt(3)\n",
    "rnnn = 2\n",
    "for i, J2 in enumerate(tqdm(J2s_lrg)):\n",
    "    interactions = {'nearest': {'xx': 1, 'yy': 1},\n",
    "                    'n_nearest': {'xx': J2, 'yy': J2}}\n",
    "    Hi = inner_hamiltonian(plaq19, interactions, b19)\n",
    "    print('Hamiltonian formed')\n",
    "    e, v = Hi.eigsh(k=1, which='SA')\n",
    "    print('Hamiltonian diagonalized')\n",
    "    energies_19[i] = e[0]\n",
    "    v0 = v[:,0]\n",
    "\n",
    "    Ni_19[i] = np.real(np.vdot(v0, Ni_op_19.dot(Ni_op_19.dot(v0))))\n",
    "\n",
    "    Mxs_19[i] = np.real(np.vdot(v0, Ms_ops_x_19[0].dot(Ms_ops_x_19[0].dot(v0))))\n",
    "    Mys_19[i] = np.real(np.vdot(v0, Ms_ops_x_19[1].dot(Ms_ops_x_19[1].dot(v0))))\n",
    "    Mzs_19[i] = np.real(np.vdot(v0, Ms_ops_x_19[2].dot(Ms_ops_x_19[2].dot(v0))))"
   ]
  },
  {
   "cell_type": "code",
   "execution_count": null,
   "metadata": {},
   "outputs": [],
   "source": [
    "plt.figure(figsize=(4,3), dpi=200)\n",
    "for n in names:\n",
    "    plt.plot(J2s, energies[n]/plaqs[n]['L'], label=n)\n",
    "plt.scatter(J2s_lrg, energies_19/19, label='19 site')\n",
    "plt.legend()\n",
    "plt.xlabel(r'$J_2$')\n",
    "plt.ylabel(r'$e$')\n",
    "plt.show()\n",
    "\n",
    "plt.figure(figsize=(4,3), dpi=200)\n",
    "for n in names:\n",
    "    plt.plot(J2s, np.gradient(energies[n]/plaqs[n]['L'], alphas), label=n)\n",
    "plt.legend()\n",
    "plt.xlabel(r'$J_2$')\n",
    "plt.ylabel(r'$de/dJ_2$')\n",
    "\n",
    "plt.figure(figsize=(4,3), dpi=200)\n",
    "for n in names:\n",
    "    plt.plot(J2s, Ni[n], label=n)\n",
    "plt.scatter(J2s_lrg, Ni_19, label='19 site')\n",
    "\n",
    "plt.legend()\n",
    "plt.xlabel(r'$J_2$')\n",
    "plt.ylabel(r'$N_I$')\n"
   ]
  },
  {
   "cell_type": "code",
   "execution_count": null,
   "metadata": {},
   "outputs": [],
   "source": [
    "for n in names:\n",
    "    plt.plot(J2s, Ni[n], label=r'$N_i$')\n",
    "    plt.plot(J2s, Mxs[n], label=r'$M_s^x$')\n",
    "    plt.plot(J2s, Mys[n], label=r'$M_s^y$')\n",
    "    plt.plot(J2s, Mzs[n], label=r'$M_s^z$')\n",
    "    plt.plot(J2s, degens[n], label='Degeneracy')\n",
    "    plt.title(n)\n",
    "    plt.xlabel(r'$J_2$')\n",
    "    plt.legend()\n",
    "    plt.show()\n",
    "plt.plot(J2s_lrg, Ni_19, label=r'$N_i$')\n",
    "plt.plot(J2s_lrg, Mxs_19, label=r'$M_s^x$')\n",
    "plt.plot(J2s_lrg, Mys_19, label=r'$M_s^y$')\n",
    "plt.plot(J2s_lrg, Mzs_19, label=r'$M_s^z$')\n",
    "plt.title('19 site')\n",
    "plt.xlabel(r'$J_2$')\n",
    "plt.legend()\n",
    "plt.show()"
   ]
  }
 ],
 "metadata": {
  "kernelspec": {
   "display_name": "Python 3",
   "language": "python",
   "name": "python3"
  },
  "language_info": {
   "codemirror_mode": {
    "name": "ipython",
    "version": 3
   },
   "file_extension": ".py",
   "mimetype": "text/x-python",
   "name": "python",
   "nbconvert_exporter": "python",
   "pygments_lexer": "ipython3",
   "version": "3.7.4"
  }
 },
 "nbformat": 4,
 "nbformat_minor": 4
}
