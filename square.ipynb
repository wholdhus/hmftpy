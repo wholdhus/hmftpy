{
 "cells": [
  {
   "cell_type": "markdown",
   "metadata": {},
   "source": [
    "# Square lattice $J_1$-$J_2$ XY and Heisenberg models"
   ]
  },
  {
   "cell_type": "markdown",
   "metadata": {},
   "source": [
    "First, we should import all the tools we need for these models. As is known, a 4-site plaquette can be used to obtain the phase diagram of the $J_1$-$J_2$ Heisenberg model on the square lattice, so we don't need to define a larger cluster."
   ]
  },
  {
   "cell_type": "code",
   "execution_count": null,
   "metadata": {},
   "outputs": [],
   "source": [
    "from hmftpy.plaquettes.square import plaq4\n",
    "from hmftpy.operators import mf_ops, inner_hamiltonian, periodic_hamiltonian\n",
    "from hmftpy import do_hmft\n",
    "from quspin.basis import spin_basis_1d\n",
    "from tqdm import tqdm\n",
    "import matplotlib.pyplot as plt\n",
    "import numpy as np\n",
    "\n",
    "plaq = plaq4\n",
    "L = 4\n",
    "basis = spin_basis_1d(L, pauli=0)\n",
    "maxit = 200 # maximum number of steps for HMFT\n",
    "steps = 40 # Number of values of J_2"
   ]
  },
  {
   "cell_type": "markdown",
   "metadata": {},
   "source": [
    "Let's define a function to return a dict telling my code which interactions to use. Here, I set $J_1=1$. When $\\alpha=1$, we will have a Heisenberg model Hamiltonian, while $\\alpha =0$ gives the XY model:\n",
    "\\begin{equation}\n",
    "H = J_1\\sum_{\\langle i, j \\rangle} \\left(\\vec\\sigma_i \\cdot \\vec\\sigma_j\n",
    "+ (\\alpha-1) \\sigma_i^z \\sigma_j^z\\right)\n",
    "+ J_2\\sum_{\\langle\\langle i, j \\rangle\\rangle}\\left(\\vec\\sigma_i \\cdot \\vec\\sigma_j\n",
    "+ (\\alpha-1) \\sigma_i^z \\sigma_j^z\\right)\n",
    "\\end{equation}"
   ]
  },
  {
   "cell_type": "code",
   "execution_count": null,
   "metadata": {},
   "outputs": [],
   "source": [
    "def couplings(J2, alpha=1):\n",
    "    interactions = {'n_bonds': {'xx': 1, 'yy': 1, 'zz': alpha},\n",
    "                    'nn_bonds': {'xx': J2, 'yy': J2, 'zz': J2*alpha}}\n",
    "    return interactions"
   ]
  },
  {
   "cell_type": "markdown",
   "metadata": {},
   "source": [
    "## Observables\n",
    "\n",
    "We can calculate order parameters for the two ordered phases. For low $J_2$, nearest-neighbor Néel order dominates, with order parameter\n",
    "\\begin{equation}\n",
    "M_\\text{stag}^\\mu = \\frac{1}{L}\\sum_i (-1)^{i}\\langle\\sigma_i^\\mu\\rangle\n",
    "\\end{equation}\n",
    "where sites are numbered such that an even-indexed site has only odd-indexed nearest neighbors.\n",
    "\n",
    "In the high-$J_2$ phase, there is Néel ordering along next-nearest neighbors, with spins aligned along either rows ($x$ direction) or columns ($y$ direction) in the lattice. In the four-site cluster, we can write these as \n",
    "\\begin{equation}\n",
    "M_{\\text{col},x}^\\mu = \\frac{1}{4}\\langle \\sigma_0^\\mu + \\sigma_1^\\mu - \\sigma_2^\\mu - \\sigma_3^\\mu\\rangle\n",
    "\\end{equation}\n",
    "and\n",
    "\\begin{equation}\n",
    "M_{\\text{col},y}^\\mu = \\frac{1}{4}\\langle \\sigma_0^\\mu - \\sigma_1^\\mu - \\sigma_2^\\mu + \\sigma_3^\\mu\\rangle\n",
    "\\end{equation}\n",
    "where the cluster is indexed \n",
    "\n",
    "    3 - 2\n",
    "    |   |\n",
    "    0 - 1\n",
    "\n",
    "Since I've already measured all the components of local spins, I don't need to build an operator to measure these. Instead, I can use the prerecorded mean-field values.\n",
    "\n",
    "For the Heisenberg model, it is typical to choose $\\mu = z$. When we move to the XY model, we will need to choose something in the $x$-$y$ plane because the $z$ components of spin are free."
   ]
  },
  {
   "cell_type": "code",
   "execution_count": null,
   "metadata": {},
   "outputs": [],
   "source": [
    "def stag_mag(mf, mu='z'):\n",
    "    return np.real(np.sum([(-1)**i*mf[mu][i] for i in range(L)]))/4\n",
    "                   \n",
    "def col_mag_x(mf, mu='z'):\n",
    "    return np.real(np.sum([(-1)**(i//2)*mf[mu][i] for i in range(L)]))/4\n",
    "                   \n",
    "def col_mag_y(mf, mu='z'):\n",
    "    return np.real(np.sum([(-1)**((i+1)//2)*mf[mu][i] for i in range(L)]))/4"
   ]
  },
  {
   "cell_type": "markdown",
   "metadata": {},
   "source": [
    "## Finding HMFT solutions\n",
    "\n",
    "Now, I create some arrays to record energy, mean-field values, and convergence for my solutions, along with a list of the values of $J_2$ I want to solve for."
   ]
  },
  {
   "cell_type": "code",
   "execution_count": null,
   "metadata": {},
   "outputs": [],
   "source": [
    "J2s = np.linspace(0, 1, steps)\n",
    "\n",
    "energies_lr = np.zeros(steps)\n",
    "cvgs_lr = [False for i in range(steps)]\n",
    "mfs_lr = [None for i in range(steps)]\n",
    "\n",
    "energies_rl = np.zeros(steps)\n",
    "cvgs_rl = [False for i in range(steps)]\n",
    "mfs_rl = [None for i in range(steps)]\n",
    "\n",
    "energies_o = np.zeros(steps)"
   ]
  },
  {
   "cell_type": "markdown",
   "metadata": {},
   "source": [
    "To ensure I stick to one solution w/r/t/ magnetization directions and such, I will reuse mean-fields from HMFT solutions at previous couplings while increasing $J_2$ from 0 to 1. While I'm at it, I can also diagonalize the Hamiltonian of a single cluster to get OBC energy. This should be the same as the HMFT energy in the intermediate phase, since in this phase the clusters decouple."
   ]
  },
  {
   "cell_type": "code",
   "execution_count": null,
   "metadata": {},
   "outputs": [],
   "source": [
    "mf0 = None # For the first step, this ensures I use a random mean-field\n",
    "for i, J2 in enumerate(tqdm(J2s, ascii=True)):\n",
    "    interactions = couplings(J2)\n",
    "    energies_lr[i], v, mf0, cvgs_lr[i] = do_hmft(plaq, interactions, basis, \n",
    "                                                 max_iter=maxit, mf0=mf0, rescale_e=True, \n",
    "                                                 hmft_tol=10**-10)\n",
    "    mfs_lr[i] = mf0\n",
    "    \n",
    "    ho = inner_hamiltonian(plaq4, interactions, basis)\n",
    "    eo, vo = ho.eigsh(k=1, which='SA')\n",
    "    energies_o[i] = eo[0]"
   ]
  },
  {
   "cell_type": "markdown",
   "metadata": {},
   "source": [
    "The HMFT solution tends to stick to a particular phase as a false minimum around first-order transitions, so to capture the transition at $J_2\\approx 0.67$, I will need to perform another run going from $J_2=1$ to $0$."
   ]
  },
  {
   "cell_type": "code",
   "execution_count": null,
   "metadata": {},
   "outputs": [],
   "source": [
    "mf0 = None\n",
    "for i, J2 in enumerate(tqdm(J2s[::-1], ascii=True)):\n",
    "    j = steps-1-i # reindexing so the results are still are ordered left to right\n",
    "    interactions = couplings(J2)\n",
    "    energies_rl[j], v, mf0, cvgs_rl[j] = do_hmft(plaq, interactions, basis, \n",
    "                                                 max_iter=maxit, mf0=mf0, rescale_e=True,\n",
    "                                                 hmft_tol=10**-10)\n",
    "    mfs_rl[j] = mf0"
   ]
  },
  {
   "cell_type": "markdown",
   "metadata": {},
   "source": [
    "## Results (Heisenberg model)"
   ]
  },
  {
   "cell_type": "code",
   "execution_count": null,
   "metadata": {},
   "outputs": [],
   "source": [
    "plt.figure(figsize=(4,3), dpi=200)\n",
    "plt.plot(J2s, energies_lr/4, label='Left to right', marker='+')\n",
    "plt.plot(J2s, energies_rl/4, label='Right to left', marker='x')\n",
    "plt.plot(J2s, energies_o/4, label='OBC', zorder=10, ls='--', color='black')\n",
    "plt.xlabel('$J_2$')\n",
    "plt.ylabel('$e$')\n",
    "plt.legend()"
   ]
  },
  {
   "cell_type": "markdown",
   "metadata": {},
   "source": [
    "When plotting the order parameters, let's just use the lowest-energy (presumably 'correct') HMFT solution."
   ]
  },
  {
   "cell_type": "code",
   "execution_count": null,
   "metadata": {},
   "outputs": [],
   "source": [
    "ind = np.argmin(np.abs(J2s-0.6)) # Both solutions agree here (and in the neighborhood of here)\n",
    "best_mfs = mfs_lr[:ind] + mfs_rl[ind:]"
   ]
  },
  {
   "cell_type": "code",
   "execution_count": null,
   "metadata": {},
   "outputs": [],
   "source": [
    "plt.figure(figsize=(4,3), dpi=200)\n",
    "plt.scatter(J2s, [stag_mag(mf, 'z') for mf in best_mfs], label=r'$M_{stag}^z$', marker='+', s=20)\n",
    "plt.scatter(J2s, [col_mag_x(mf, 'z') for mf in best_mfs], label=r'$M_{col, x}^z$', marker='x', s=20)\n",
    "plt.scatter(J2s, [col_mag_y(mf, 'z') for mf in best_mfs], label=r'$M_{col, y}^z$', marker='.', s=20)\n",
    "plt.legend()\n",
    "plt.xlabel('$J_2$')"
   ]
  },
  {
   "cell_type": "markdown",
   "metadata": {},
   "source": [
    "When comparing to literature on the subject, the magnitude of these order parameters seems a bit too small. This could be because the alignment isn't precisely along the $\\sigma^z$ direction. How about we compute the total magnitude (i.e. $M_\\text{stag} = \\sqrt{\\sum_\\mu (M_\\text{stag}^\\mu)^2}$)"
   ]
  },
  {
   "cell_type": "code",
   "execution_count": null,
   "metadata": {},
   "outputs": [],
   "source": [
    "plt.figure(figsize=(4,3), dpi=200)\n",
    "plt.scatter(J2s, [np.sqrt(stag_mag(mf, 'x')**2 + stag_mag(mf, 'y')**2 + stag_mag(mf, 'z')**2) for mf in best_mfs], \n",
    "            label=r'$M_{stag}$', marker='+', s=20)\n",
    "plt.scatter(J2s, [np.sqrt(col_mag_x(mf, 'x')**2 + col_mag_x(mf, 'y')**2 + col_mag_x(mf, 'z')**2) for mf in best_mfs], \n",
    "            label=r'$M_{col, x}$', marker='2', s=20)\n",
    "plt.scatter(J2s, [np.sqrt(col_mag_y(mf, 'x')**2 + col_mag_y(mf, 'y')**2 + col_mag_y(mf, 'z')**2) for mf in best_mfs], \n",
    "            label=r'$M_{col, y}$', marker='1', s=20)\n",
    "plt.legend()\n",
    "plt.xlabel('$J_2$')"
   ]
  },
  {
   "cell_type": "markdown",
   "metadata": {},
   "source": [
    "This is much closer to what is in Gerardo's paper."
   ]
  },
  {
   "cell_type": "markdown",
   "metadata": {},
   "source": [
    "# XY Model\n",
    "\n",
    "Now, let's repeat everything we did for the $XY$ model. The intermediate phase in the XY model is much smaller, so let's work with a smaller range of $J_2$ around the transition point(s):"
   ]
  },
  {
   "cell_type": "code",
   "execution_count": null,
   "metadata": {},
   "outputs": [],
   "source": [
    "J2s_xy = np.linspace(0.45, 0.65, steps)\n",
    "energies_lr_xy = np.zeros(steps)\n",
    "cvgs_lr_xy = [False for i in range(steps)]\n",
    "mfs_lr_xy = [None for i in range(steps)]\n",
    "\n",
    "energies_rl_xy = np.zeros(steps)\n",
    "cvgs_rl_xy = [False for i in range(steps)]\n",
    "mfs_rl_xy = [None for i in range(steps)]\n",
    "\n",
    "energies_o_xy = np.zeros(steps)"
   ]
  },
  {
   "cell_type": "code",
   "execution_count": null,
   "metadata": {},
   "outputs": [],
   "source": [
    "mf0 = None # For the first step, this ensures I use a random mean-field\n",
    "for i, J2 in enumerate(tqdm(J2s_xy, ascii=True)):\n",
    "    interactions = couplings(J2, alpha=0)\n",
    "    energies_lr_xy[i], v, mf0, cvgs_lr_xy[i] = do_hmft(plaq, interactions, basis, \n",
    "                                                 max_iter=maxit, mf0=mf0, rescale_e=True, \n",
    "                                                 hmft_tol=10**-10)\n",
    "    mfs_lr_xy[i] = mf0\n",
    "    \n",
    "    ho = inner_hamiltonian(plaq4, interactions, basis)\n",
    "    eo, vo = ho.eigsh(k=1, which='SA')\n",
    "    energies_o_xy[i] = eo[0]"
   ]
  },
  {
   "cell_type": "code",
   "execution_count": null,
   "metadata": {},
   "outputs": [],
   "source": [
    "mf0 = None\n",
    "for i, J2 in enumerate(tqdm(J2s_xy[::-1], ascii=True)):\n",
    "    j = steps-1-i # reindexing so the results are still are ordered left to right\n",
    "    interactions = couplings(J2, alpha=0)\n",
    "    energies_rl_xy[j], v, mf0, cvgs_rl_xy[j] = do_hmft(plaq, interactions, basis, \n",
    "                                                       max_iter=maxit, mf0=mf0, rescale_e=True,\n",
    "                                                       hmft_tol=10**-10)\n",
    "    mfs_rl_xy[j] = mf0"
   ]
  },
  {
   "cell_type": "code",
   "execution_count": null,
   "metadata": {},
   "outputs": [],
   "source": [
    "plt.figure(figsize=(4,3), dpi=200)\n",
    "plt.plot(J2s_xy, energies_lr_xy/4, label='Left to right', marker='+')\n",
    "plt.plot(J2s_xy, energies_rl_xy/4, label='Right to left', marker='x')\n",
    "plt.plot(J2s_xy, energies_o_xy/4, label='OBC', zorder=10, ls='--', color='black')\n",
    "plt.xlabel('$J_2$')\n",
    "plt.ylabel('$e$')\n",
    "plt.legend()"
   ]
  },
  {
   "cell_type": "markdown",
   "metadata": {},
   "source": [
    "From this plot, it seems pretty clear that (at least for 4 sites) there is no intermediate phase in the XY model, just a first-order transition between the two ordered phases at $J_2\\approx 0.54$.\n",
    "\n",
    "Let's use a different strategy to join the solutions now. How about we just go with the lowest-energy solution, but give preference to the left-right one when they are close (so we don't get anything jumpy in the low-$J_2$ phase)"
   ]
  },
  {
   "cell_type": "code",
   "execution_count": null,
   "metadata": {},
   "outputs": [],
   "source": [
    "best_mfs_xy = [None for i in range(steps)]\n",
    "for i in range(steps):\n",
    "    if energies_rl_xy[i] - energies_lr_xy[i] < 10**-8:\n",
    "        best_mfs_xy[i] = mfs_rl_xy[i]\n",
    "    else:\n",
    "        best_mfs_xy[i] = mfs_lr_xy[i]"
   ]
  },
  {
   "cell_type": "code",
   "execution_count": null,
   "metadata": {},
   "outputs": [],
   "source": [
    "plt.figure(figsize=(4,3), dpi=200)\n",
    "plt.scatter(J2s, [np.sqrt(stag_mag(mf, 'x')**2 + stag_mag(mf, 'y')**2 + stag_mag(mf, 'z')**2) for mf in best_mfs_xy], \n",
    "            label=r'$M_{stag}$', marker='+', s=20)\n",
    "plt.scatter(J2s, [np.sqrt(col_mag_x(mf, 'x')**2 + col_mag_x(mf, 'y')**2 + col_mag_x(mf, 'z')**2) for mf in best_mfs_xy], \n",
    "            label=r'$M_{col, x}$', marker='2', s=20)\n",
    "plt.scatter(J2s, [np.sqrt(col_mag_y(mf, 'x')**2 + col_mag_y(mf, 'y')**2 + col_mag_y(mf, 'z')**2) for mf in best_mfs_xy], \n",
    "            label=r'$M_{col, y}$', marker='1', s=20)\n",
    "plt.legend()\n",
    "plt.xlabel('$J_2$')"
   ]
  },
  {
   "cell_type": "markdown",
   "metadata": {},
   "source": [
    "Just for completeness' sake, let's plot the energy as a function of interaction range $\\alpha$ for a power-law ($r^{-\\alpha}$) interaction. Since the next-nearest neighbors are $\\sqrt 2$ apart (where we set lattice spacings to 1), this is related to $J_2$ as $J_2 = 2^{-\\alpha/2}\n",
    "\\implies \\alpha = -2 \\frac{\\ln(J_2)}{\\ln(2)}$."
   ]
  },
  {
   "cell_type": "code",
   "execution_count": null,
   "metadata": {},
   "outputs": [],
   "source": [
    "plt.figure(figsize=(4,3), dpi=200)\n",
    "plt.plot(-2*np.log(J2s_xy)/np.log(2), energies_lr_xy/4, label='Left to right', marker='+')\n",
    "plt.plot(-2*np.log(J2s_xy)/np.log(2), energies_rl_xy/4, label='Right to left', marker='x')\n",
    "plt.plot(-2*np.log(J2s_xy)/np.log(2), energies_o_xy/4, label='OBC', zorder=10, ls='--', color='black')\n",
    "plt.xlabel(r'$\\alpha$')\n",
    "plt.ylabel('$e$')\n",
    "plt.legend()"
   ]
  }
 ],
 "metadata": {
  "kernelspec": {
   "display_name": "Python 3",
   "language": "python",
   "name": "python3"
  },
  "language_info": {
   "codemirror_mode": {
    "name": "ipython",
    "version": 3
   },
   "file_extension": ".py",
   "mimetype": "text/x-python",
   "name": "python",
   "nbconvert_exporter": "python",
   "pygments_lexer": "ipython3",
   "version": "3.7.6"
  }
 },
 "nbformat": 4,
 "nbformat_minor": 4
}
