{
 "cells": [
  {
   "cell_type": "code",
   "execution_count": null,
   "metadata": {},
   "outputs": [],
   "source": [
    "import hmftpy as hmf\n",
    "from hmftpy.plaquettes.triangular import plaq12, plaq12z, plaq9p, plaq9d, plaq3\n",
    "from hmftpy.operators import mf_ops, inner_hamiltonian, periodic_hamiltonian\n",
    "from hmftpy import do_hmft\n",
    "from hmftpy.hmf import get_mfs\n",
    "from hmftpy.plot_spins import draw_tri_lattice, draw_cluster, plot_spins\n",
    "from quspin.basis import spin_basis_1d\n",
    "from quspin.operators import quantum_operator\n",
    "from tqdm import tqdm\n",
    "import matplotlib.pyplot as plt\n",
    "import numpy as np\n",
    "\n",
    "plaq = plaq12\n",
    "L = plaq['L']\n",
    "basis = spin_basis_1d(L, pauli=0)\n",
    "\n",
    "ops = hmf.operators.mf_ops(plaq, basis)\n",
    "maxit=100"
   ]
  },
  {
   "cell_type": "code",
   "execution_count": null,
   "metadata": {},
   "outputs": [],
   "source": [
    "def couplings_r(alpha):\n",
    "    r_nn = np.sqrt(3)\n",
    "    r_nnn = 2\n",
    "    interactions = {'local': {},\n",
    "                    'nearest': {'xx': 1, 'yy': 1, 'zz': 0},\n",
    "                    'n_nearest': {'xx': np.sqrt(3)**-alpha, 'yy': np.sqrt(3)**-alpha, 'zz': 0},\n",
    "                    'n_n_nearest': {'xx': 2**-alpha, 'yy': 2**-alpha, 'zz': 0}}\n",
    "    return interactions"
   ]
  },
  {
   "cell_type": "code",
   "execution_count": null,
   "metadata": {},
   "outputs": [],
   "source": [
    "steps = 20\n",
    "alphas_1 = np.linspace(0, 1.5, steps)\n",
    "alphas_2 = np.linspace(6, 3, steps)\n",
    "alphas = np.concatenate([alphas_1, alphas_2[::-1]])\n",
    "energies_1 = np.zeros(steps)\n",
    "energies_2 = np.zeros(steps)\n",
    "energies_ed = np.zeros(2*steps)\n",
    "cvgs_1 = [False for i in range(steps)]\n",
    "cvgs_2 = [False for i in range(steps)]"
   ]
  },
  {
   "cell_type": "code",
   "execution_count": null,
   "metadata": {},
   "outputs": [],
   "source": [
    "mf0 = None\n",
    "for i, alpha in enumerate(tqdm(alphas_1)):\n",
    "    interactions = couplings_r(alpha)\n",
    "    energies_1[i], v, mf0, cvgs_1[i] = do_hmft(plaq, interactions, basis, \n",
    "                                            max_iter=maxit, mf0=mf0,\n",
    "                                            ops=ops,\n",
    "                                            mf_cvg=False, every_other=True,\n",
    "                                          hmft_tol=10**-10)"
   ]
  },
  {
   "cell_type": "code",
   "execution_count": null,
   "metadata": {},
   "outputs": [],
   "source": [
    "mf0 = None\n",
    "alphas_2 = np.linspace(10, 3, steps)\n",
    "for i, alpha in enumerate(tqdm(alphas_2)):\n",
    "    interactions = couplings_r(alpha)\n",
    "    energies_2[i], v, mf0, cvgs_2[i] = do_hmft(plaq, interactions, basis, \n",
    "                                            max_iter=maxit, mf0=mf0,\n",
    "                                            ops=ops,\n",
    "                                            mf_cvg=False, every_other=True,\n",
    "                                          hmft_tol=10**-10)"
   ]
  },
  {
   "cell_type": "code",
   "execution_count": null,
   "metadata": {},
   "outputs": [],
   "source": [
    "alphas_ed = np.linspace(0, 10, 2*steps)\n",
    "for i, alpha in enumerate(tqdm(alphas_ed)):\n",
    "    interactions = couplings_r(alpha)\n",
    "    h = inner_hamiltonian(plaq, interactions, basis, every_other=True)\n",
    "    e, v = h.eigsh(k=1, which='SA')\n",
    "    energies_ed[i] = e[0]"
   ]
  },
  {
   "cell_type": "code",
   "execution_count": null,
   "metadata": {},
   "outputs": [],
   "source": [
    "alphas_3 = np.linspace(1, 3, steps)\n",
    "energies_3 = np.zeros(steps)\n",
    "cvgs_3 = [False for i in range(steps)]\n",
    "mf0 = None\n",
    "for i, alpha in enumerate(tqdm(alphas_3)):\n",
    "    interactions = couplings_r(alpha)\n",
    "    hp = periodic_hamiltonian(plaq, interactions, basis, every_other=True)\n",
    "    e, v = hp.eigsh(k=1, which='SA')\n",
    "    mf0 = get_mfs(v[:,0], ops)\n",
    "    energies_3[i], v, _, cvgs_3[i] = do_hmft(plaq, interactions, basis, \n",
    "                                            max_iter=200, mf0=mf0,\n",
    "                                            ops=ops,\n",
    "                                            mf_cvg=False, every_other=True,\n",
    "                                          hmft_tol=10**-10)"
   ]
  },
  {
   "cell_type": "code",
   "execution_count": null,
   "metadata": {},
   "outputs": [],
   "source": [
    "plt.figure(figsize=(4,3), dpi=200)\n",
    "plt.plot(alphas_ed, energies_ed)\n",
    "plt.scatter(alphas_2[cvgs_2], energies_2[cvgs_2], color='m')\n",
    "plt.scatter(alphas_1[cvgs_1], energies_1[cvgs_1], color='c')\n",
    "plt.scatter(alphas_3, energies_3, color='orange')"
   ]
  },
  {
   "cell_type": "code",
   "execution_count": null,
   "metadata": {},
   "outputs": [],
   "source": [
    "plt.figure(figsize=(4,3), dpi=200)\n",
    "plt.plot(np.sqrt(3)**-alphas_ed, energies_ed)\n",
    "plt.scatter(np.sqrt(3)**-alphas_2[cvgs_2], energies_2[cvgs_2], color='m')\n",
    "plt.scatter(np.sqrt(3)**-alphas_1[cvgs_1], energies_1[cvgs_1], color='c')\n",
    "plt.scatter(np.sqrt(3)**-alphas_3, energies_3, color='orange')"
   ]
  },
  {
   "cell_type": "code",
   "execution_count": null,
   "metadata": {},
   "outputs": [],
   "source": []
  }
 ],
 "metadata": {
  "kernelspec": {
   "display_name": "Python 3",
   "language": "python",
   "name": "python3"
  },
  "language_info": {
   "codemirror_mode": {
    "name": "ipython",
    "version": 3
   },
   "file_extension": ".py",
   "mimetype": "text/x-python",
   "name": "python",
   "nbconvert_exporter": "python",
   "pygments_lexer": "ipython3",
   "version": "3.7.6"
  }
 },
 "nbformat": 4,
 "nbformat_minor": 4
}
