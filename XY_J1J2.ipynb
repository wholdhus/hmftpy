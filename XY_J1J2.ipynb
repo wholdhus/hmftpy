{
 "cells": [
  {
   "cell_type": "code",
   "execution_count": 5,
   "metadata": {},
   "outputs": [],
   "source": [
    "import hmftpy as hmf\n",
    "from hmftpy.plaquettes.triangular import plaq12\n",
    "from hmftpy.operators import mf_ops, inner_hamiltonian, periodic_hamiltonian\n",
    "from hmftpy import do_hmft\n",
    "from quspin.basis import spin_basis_1d\n",
    "from tqdm import tqdm\n",
    "import matplotlib.pyplot as plt\n",
    "import numpy as np\n",
    "\n",
    "b12 = spin_basis_1d(12, pauli=0)\n",
    "ops12 = hmf.operators.mf_ops(plaq12, b12)\n",
    "maxit = 50"
   ]
  },
  {
   "cell_type": "code",
   "execution_count": 6,
   "metadata": {},
   "outputs": [
    {
     "name": "stderr",
     "output_type": "stream",
     "text": [
      "  0%|          | 0/20 [00:00<?, ?it/s]"
     ]
    },
    {
     "name": "stdout",
     "output_type": "stream",
     "text": [
      "Running right to left\n"
     ]
    },
    {
     "name": "stderr",
     "output_type": "stream",
     "text": [
      "\n"
     ]
    },
    {
     "ename": "Exception",
     "evalue": "Unknown interaction type n",
     "output_type": "error",
     "traceback": [
      "\u001b[0;31m---------------------------------------------------------------------------\u001b[0m",
      "\u001b[0;31mException\u001b[0m                                 Traceback (most recent call last)",
      "\u001b[0;32m<ipython-input-6-d3b4ba4e4182>\u001b[0m in \u001b[0;36m<module>\u001b[0;34m\u001b[0m\n\u001b[1;32m     16\u001b[0m                     \u001b[0;34m'nn'\u001b[0m\u001b[0;34m:\u001b[0m \u001b[0;34m{\u001b[0m\u001b[0;34m'xx'\u001b[0m\u001b[0;34m:\u001b[0m \u001b[0mJ2\u001b[0m\u001b[0;34m,\u001b[0m \u001b[0;34m'yy'\u001b[0m\u001b[0;34m:\u001b[0m \u001b[0mJ2\u001b[0m\u001b[0;34m,\u001b[0m \u001b[0;34m'zz'\u001b[0m\u001b[0;34m:\u001b[0m \u001b[0;36m0\u001b[0m\u001b[0;34m}\u001b[0m\u001b[0;34m,\u001b[0m\u001b[0;34m\u001b[0m\u001b[0;34m\u001b[0m\u001b[0m\n\u001b[1;32m     17\u001b[0m                     'nnn': {}}\n\u001b[0;32m---> 18\u001b[0;31m     \u001b[0mHi\u001b[0m \u001b[0;34m=\u001b[0m \u001b[0minner_hamiltonian\u001b[0m\u001b[0;34m(\u001b[0m\u001b[0mplaq\u001b[0m\u001b[0;34m,\u001b[0m \u001b[0minteractions\u001b[0m\u001b[0;34m,\u001b[0m \u001b[0mbasis\u001b[0m\u001b[0;34m)\u001b[0m\u001b[0;34m\u001b[0m\u001b[0;34m\u001b[0m\u001b[0m\n\u001b[0m\u001b[1;32m     19\u001b[0m     \u001b[0me\u001b[0m\u001b[0;34m,\u001b[0m \u001b[0mv\u001b[0m \u001b[0;34m=\u001b[0m \u001b[0mHi\u001b[0m\u001b[0;34m.\u001b[0m\u001b[0meigsh\u001b[0m\u001b[0;34m(\u001b[0m\u001b[0mk\u001b[0m\u001b[0;34m=\u001b[0m\u001b[0;36m1\u001b[0m\u001b[0;34m,\u001b[0m \u001b[0mwhich\u001b[0m\u001b[0;34m=\u001b[0m\u001b[0;34m'SA'\u001b[0m\u001b[0;34m,\u001b[0m \u001b[0mtol\u001b[0m\u001b[0;34m=\u001b[0m\u001b[0;36m10\u001b[0m\u001b[0;34m**\u001b[0m\u001b[0;34m-\u001b[0m\u001b[0;36m12\u001b[0m\u001b[0;34m)\u001b[0m\u001b[0;34m\u001b[0m\u001b[0;34m\u001b[0m\u001b[0m\n\u001b[1;32m     20\u001b[0m     \u001b[0menergies_12\u001b[0m\u001b[0;34m[\u001b[0m\u001b[0;34m'inner'\u001b[0m\u001b[0;34m]\u001b[0m\u001b[0;34m[\u001b[0m\u001b[0mi\u001b[0m\u001b[0;34m]\u001b[0m \u001b[0;34m=\u001b[0m \u001b[0me\u001b[0m\u001b[0;34m[\u001b[0m\u001b[0;36m0\u001b[0m\u001b[0;34m]\u001b[0m\u001b[0;34m\u001b[0m\u001b[0;34m\u001b[0m\u001b[0m\n",
      "\u001b[0;32m~/Desktop/repos/hmftpy/hmftpy/operators.py\u001b[0m in \u001b[0;36minner_hamiltonian\u001b[0;34m(plaquette, interactions, basis, verbose, disorder, every_other, checks)\u001b[0m\n\u001b[1;32m     47\u001b[0m                 \u001b[0mterms\u001b[0m \u001b[0;34m+=\u001b[0m \u001b[0;34m[\u001b[0m\u001b[0;34m[\u001b[0m\u001b[0mc_op\u001b[0m\u001b[0;34m,\u001b[0m \u001b[0;34m[\u001b[0m\u001b[0;34m[\u001b[0m\u001b[0mcoupling\u001b[0m\u001b[0;34m,\u001b[0m \u001b[0mb\u001b[0m\u001b[0;34m[\u001b[0m\u001b[0;36m0\u001b[0m\u001b[0;34m]\u001b[0m\u001b[0;34m,\u001b[0m \u001b[0mb\u001b[0m\u001b[0;34m[\u001b[0m\u001b[0;36m1\u001b[0m\u001b[0;34m]\u001b[0m\u001b[0;34m]\u001b[0m \u001b[0;32mfor\u001b[0m \u001b[0mb\u001b[0m \u001b[0;32min\u001b[0m \u001b[0mplaquette\u001b[0m\u001b[0;34m[\u001b[0m\u001b[0;34m'inner'\u001b[0m\u001b[0;34m]\u001b[0m\u001b[0;34m[\u001b[0m\u001b[0mn\u001b[0m\u001b[0;34m]\u001b[0m\u001b[0;34m]\u001b[0m\u001b[0;34m]\u001b[0m\u001b[0;34m]\u001b[0m\u001b[0;34m\u001b[0m\u001b[0;34m\u001b[0m\u001b[0m\n\u001b[1;32m     48\u001b[0m         \u001b[0;32melse\u001b[0m\u001b[0;34m:\u001b[0m\u001b[0;34m\u001b[0m\u001b[0;34m\u001b[0m\u001b[0m\n\u001b[0;32m---> 49\u001b[0;31m             \u001b[0;32mraise\u001b[0m \u001b[0mException\u001b[0m\u001b[0;34m(\u001b[0m\u001b[0;34m'Unknown interaction type {}'\u001b[0m\u001b[0;34m.\u001b[0m\u001b[0mformat\u001b[0m\u001b[0;34m(\u001b[0m\u001b[0mn\u001b[0m\u001b[0;34m)\u001b[0m\u001b[0;34m)\u001b[0m\u001b[0;34m\u001b[0m\u001b[0;34m\u001b[0m\u001b[0m\n\u001b[0m\u001b[1;32m     50\u001b[0m     Hi = quantum_operator({'static': terms}, basis=basis,\n\u001b[1;32m     51\u001b[0m                           \u001b[0mcheck_herm\u001b[0m\u001b[0;34m=\u001b[0m\u001b[0mchecks\u001b[0m\u001b[0;34m,\u001b[0m \u001b[0mcheck_symm\u001b[0m\u001b[0;34m=\u001b[0m\u001b[0mchecks\u001b[0m\u001b[0;34m,\u001b[0m\u001b[0;34m\u001b[0m\u001b[0;34m\u001b[0m\u001b[0m\n",
      "\u001b[0;31mException\u001b[0m: Unknown interaction type n"
     ]
    }
   ],
   "source": [
    "J2s_12 = np.linspace(.4, 0, 20)\n",
    "l = len(J2s_12)\n",
    "labels = ['inner', 'periodic', 'lr', 'rl']\n",
    "energies_12 = {lab: np.zeros(l) for lab in labels}\n",
    "mfs_12 = {lab: [None] for lab in labels}\n",
    "cvgs_12 = {lab: np.zeros(l) for lab in labels}\n",
    "plaq = plaq12\n",
    "basis = b12\n",
    "ops = ops12\n",
    "\n",
    "print('Running right to left')\n",
    "\n",
    "for i, J2 in enumerate(tqdm(J2s_12)):\n",
    "    interactions = {'learestocal': {},\n",
    "                    'n': {'xx': 1, 'yy': 1, 'zz': 0},\n",
    "                    'n_nearest': {'xx': J2, 'yy': J2, 'zz': 0},\n",
    "                    'n_n_nearest': {}}\n",
    "    Hi = inner_hamiltonian(plaq, interactions, basis)\n",
    "    e, v = Hi.eigsh(k=1, which='SA', tol=10**-12)\n",
    "    energies_12['inner'][i] = e[0]\n",
    "    Hp = periodic_hamiltonian(plaq, interactions, basis)\n",
    "    e, v = Hp.eigsh(k=1, which='SA', tol=10**-12)\n",
    "    energies_12['periodic'][i] = e[0]\n",
    "\n",
    "    energies_12['rl'][i], v, mf, cvg = do_hmft(plaq, interactions, basis, \n",
    "                                                           max_iter=maxit, mf0=mfs_12['rl'][-1], \n",
    "                                                           ops=ops, Hi=Hi, lanczos_tol=10**-12,\n",
    "                                                           hmft_tol=10**-9)\n",
    "    cvgs_12['rl'][i] = cvg\n",
    "    mfs_12['rl'] += [mf]\n",
    "\n",
    "    \n",
    "print('Running left to right')\n",
    "\n",
    "for i, J2 in enumerate(tqdm(J2s_12[::-1])):\n",
    "    interactions = {'local': {},\n",
    "                    'nearest': {'xx': 1, 'yy': 1, 'zz': 0},\n",
    "                    'n_nearest': {'xx': J2, 'yy': J2, 'zz': 0},\n",
    "                    'n_n_nearest': {}}\n",
    "    energies_12['lr'][i], v, mf, cvg = do_hmft(plaq, interactions, basis, \n",
    "                                                           max_iter=maxit, mf0=mfs_12['lr'][-1], \n",
    "                                                           ops=ops, lanczos_tol=10**-12,\n",
    "                                                           hmft_tol=10**-9)\n",
    "    mfs_12['lr'] += [mf]\n",
    "    # chis_12['lr'][i] = np.real(chi_op.expt_value(v))\n",
    "    cvgs_12['lr'][i] = cvg\n",
    "\n"
   ]
  },
  {
   "cell_type": "code",
   "execution_count": null,
   "metadata": {},
   "outputs": [],
   "source": []
  }
 ],
 "metadata": {
  "kernelspec": {
   "display_name": "Python 3",
   "language": "python",
   "name": "python3"
  },
  "language_info": {
   "codemirror_mode": {
    "name": "ipython",
    "version": 3
   },
   "file_extension": ".py",
   "mimetype": "text/x-python",
   "name": "python",
   "nbconvert_exporter": "python",
   "pygments_lexer": "ipython3",
   "version": "3.7.6"
  }
 },
 "nbformat": 4,
 "nbformat_minor": 4
}
