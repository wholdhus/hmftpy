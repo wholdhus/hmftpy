{
 "cells": [
  {
   "cell_type": "code",
   "execution_count": 10,
   "metadata": {},
   "outputs": [],
   "source": [
    "from quspin.operators import quantum_operator\n",
    "from quspin.basis import spin_basis_1d\n",
    "from quspin.tools.evolution import evolve\n",
    "import numpy as np\n",
    "import matplotlib.pyplot as plt\n",
    "from scipy.integrate import solve_ivp\n",
    "from hmftpy.plaquettes.square import plaq4\n",
    "from hmftpy import do_hmft\n",
    "from hmftpy.plot_spins import draw_tri_lattice, draw_cluster, plot_spins\n",
    "from hmftpy.operators import inner_hamiltonian, periodic_hamiltonian"
   ]
  },
  {
   "cell_type": "markdown",
   "metadata": {},
   "source": [
    "# Our model\n",
    "\n",
    "Let's work with the square lattice. Our cluster will be 4 spins, with a symmetric tiling. For now, let's do antiferromagnetic Heisenberg interactions with an external (time-dependent) magnetic field, which starts switched off."
   ]
  },
  {
   "cell_type": "code",
   "execution_count": 11,
   "metadata": {},
   "outputs": [
    {
     "name": "stdout",
     "output_type": "stream",
     "text": [
      "16\n"
     ]
    }
   ],
   "source": [
    "interactions = {'local': {'z': 0},\n",
    "                'nearest': {'xx': 1, 'yy': 1, 'zz': 1}\n",
    "               }\n",
    "plaq = plaq4\n",
    "basis = spin_basis_1d(4)\n",
    "print(basis.Ns)\n",
    "e, v, mf, cvg = do_hmft(plaq, interactions, basis)\n",
    "\n",
    "H = inner_hamiltonian(plaq, interactions, basis)\n",
    "ei, vi = H.eigh()"
   ]
  },
  {
   "cell_type": "code",
   "execution_count": 34,
   "metadata": {},
   "outputs": [],
   "source": [
    "sx = np.zeros((basis.Ns, basis.Ns, 4), dtype=np.float64)\n",
    "sy = np.zeros((basis.Ns, basis.Ns, 4), dtype=np.float64)\n",
    "sz = np.zeros((basis.Ns, basis.Ns, 4), dtype=np.float64)\n",
    "for i in range(basis.Ns):\n",
    "    for j in range(i):\n",
    "        for k in range(4):\n",
    "            sx[i,j,k] = np.real(np.vdot(vi[:,i], basis.inplace_Op(vi[:,j], [['x', [k], 1]], np.complex128)))\n",
    "            sx[j,i,k] = sx[i,j,k]\n",
    "            sy[i,j,k] = np.real(np.vdot(vi[:,i], basis.inplace_Op(vi[:,j], [['y', [k], 1]], np.complex128)))\n",
    "            sy[j,i,k] = sx[i,j,k]\n",
    "            sz[i,j,k] = np.real(np.vdot(vi[:,i], basis.inplace_Op(vi[:,j], [['z', [k], 1]], np.complex128)))\n",
    "            sz[j,i,k] = sx[i,j,k]"
   ]
  },
  {
   "cell_type": "code",
   "execution_count": 40,
   "metadata": {},
   "outputs": [
    {
     "name": "stdout",
     "output_type": "stream",
     "text": [
      "[-0.03318788-0.05648713j -0.02612999-0.06940526j -0.07358818-0.19546148j\n",
      "  0.00507194+0.00636994j  0.07358818+0.19546148j  0.25586092+0.66785827j\n",
      "  0.02220579+0.06608604j -0.01578743-0.03576495j -0.15229676-0.40452352j\n",
      "  0.00480376-0.02491743j -0.11578283-0.33950386j -0.01105424+0.00469115j\n",
      " -0.09086621-0.23752831j  0.01699763+0.03760763j  0.00430132-0.01308337j\n",
      "  0.02350441+0.04000548j]\n"
     ]
    }
   ],
   "source": [
    "def get_c(v0, vs):\n",
    "    cs = np.zeros(len(vs), dtype=np.complex128)\n",
    "    for i, v in enumerate(vs):\n",
    "        cs[i] = np.vdot(vs[i], v0)\n",
    "    return cs\n",
    "c0 = get_c(v, vi)\n",
    "print(c0)"
   ]
  },
  {
   "cell_type": "markdown",
   "metadata": {},
   "source": [
    "# Time evolution equations\n",
    "Our HMFT Hamiltonian is\n",
    "\\begin{align*}\n",
    "H = -h(t) \\sum_i \\sigma_i^z\n",
    "+ \\sum_{i}\\sum_{j\\in \\partial_i^\\text{int}}\\sigma_i \\cdot \\sigma_j \n",
    "+ \\sum_{i} \\sum_{j\\in \\partial^\\text{ext}_i} \\sigma_i \\cdot  s_j(t).\n",
    "\\end{align*}\n",
    "Then, we write our state as\n",
    "\\begin{equation}\n",
    "|{\\psi(t)\\langle = \\sum_n c_n(t) |n\\rangle\n",
    "\\end{equation}\n",
    "where $|n\\rangle$ is an eigenstate of the Hamiltonian with $h=0$, with eigenvalue $\\epsilon_n$. Then, the TDSE is\n",
    "\n",
    "\\begin{equation}\n",
    "i \\partial_t |\\psi(t)\\rangle =-h(t)\\sum_i \\sigma_i^z |\\psi(t)\\rangle\n",
    "+ \\sum_{i}\\sum_{j\\in \\partial_i^\\text{int}}\\sigma_i \\cdot \\sigma_j |\\psi(t)\\rangle\n",
    "+ \\sum_{i} \\sum_{j\\in \\partial^\\text{ext}_i} \\sigma_i \\cdot  s_j(t)|\\psi(t)\\rangle.\n",
    "\\end{equation}\n",
    "Now acting on this with the states $\\langle n|$, we get the set of equations ($n = 1$ to 16)\n",
    "\\begin{align*}\n",
    "i \\dot c_n(t) \n",
    "=&-h(t)\\sum_i \\sum_m \\langle n| \\sigma_i^z |m\\rangle c_m(t)\n",
    "+ \\sum_i \\sum_{j\\in \\partial_i^\\text{int}} \\sum_{l,m} \\sum_\\mu \\langle n|\\sigma_i ^\\mu|l \\rangle  \\langle l| \\sigma_j^\\mu | m \\rangle c_m(t)\n",
    "+ \\sum_i \\sum_{j\\in \\partial_i^\\text{ext}} \\sum_m\\sum_\\mu \\langle n|\\sigma_i^\\mu|m \\rangle  s_j^\\mu(t) c_m(t)\\\\\n",
    "=&\\sum_i\\sum_m \\left(-h(t)\\langle n| \\sigma_i^z |m\\rangle \n",
    "+ \\sum_i \\sum_{j\\in \\partial_i^\\text{int}} \\sum_{l,m} \\sum_\\mu \\langle n|\\sigma_i ^\\mu|l \\rangle  \\langle l| \\sigma_j^\\mu | m \\rangle \n",
    "+ \\sum_i \\sum_{j\\in \\partial_i^\\text{ext}} \\sum_m\\sum_\\mu \\langle n|\\sigma_i^\\mu|m \\rangle\n",
    "\\sum_{a,b}\\langle a|\\sigma_j^\\mu|b\\rangle\n",
    "c_a^*(t)c_b(t)\n",
    "\\right)c_m(t)\n",
    "\\end{align*}"
   ]
  },
  {
   "cell_type": "code",
   "execution_count": null,
   "metadata": {},
   "outputs": [],
   "source": [
    "def f(t, c):\n",
    "    dc = np.zeros(basis.Ns)\n",
    "    for n in range(basis.Ns):\n",
    "        dc[n] = 1j*h(t)*np.sum(sz[n,:,:])\n",
    "        for i in range(4):\n",
    "            neighbors_in = plaq['inner']['nearest'][i]\n",
    "            neighbors_out = plaq['outer']['nearest'][i]\n",
    "            for l in range(basis.Ns):\n",
    "                dc[n] += -1j*np.sum(sx[n,l,i]*sx[l,:,neighbors_in])\n",
    "                dc[n] += -1j*np.sum(sy[n,l,i]*sy[l,:,neighbors_in])\n",
    "                dc[n] += -1j*np.sum(sz[n,l,i]*sz[l,:,neighbors_in])\n",
    "    return"
   ]
  }
 ],
 "metadata": {
  "kernelspec": {
   "display_name": "Python 3",
   "language": "python",
   "name": "python3"
  },
  "language_info": {
   "codemirror_mode": {
    "name": "ipython",
    "version": 3
   },
   "file_extension": ".py",
   "mimetype": "text/x-python",
   "name": "python",
   "nbconvert_exporter": "python",
   "pygments_lexer": "ipython3",
   "version": "3.7.6"
  }
 },
 "nbformat": 4,
 "nbformat_minor": 4
}
