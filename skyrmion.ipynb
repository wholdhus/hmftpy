{
 "cells": [
  {
   "cell_type": "code",
   "execution_count": null,
   "metadata": {},
   "outputs": [],
   "source": [
    "import hmftpy as hmf\n",
    "import numpy as np\n",
    "import matplotlib.pyplot as plt\n",
    "from hmftpy.plaquettes.square import plaq4\n",
    "from hmftpy.plaquettes.triangular import plaq3, plaq12, plaq19\n",
    "from quspin.basis import spin_basis_1d\n",
    "from quspin.operators import quantum_operator\n",
    "from tqdm import tqdm"
   ]
  },
  {
   "cell_type": "code",
   "execution_count": null,
   "metadata": {},
   "outputs": [],
   "source": [
    "b3 = spin_basis_1d(3, pauli=0)\n",
    "b12 = spin_basis_1d(12, pauli=0)\n",
    "b19 = spin_basis_1d(19, pauli=0)"
   ]
  },
  {
   "cell_type": "markdown",
   "metadata": {},
   "source": [
    "# Hamiltonian\n",
    "Here, we consider the DM interaction\n",
    "\\begin{align*}\n",
    "    H = &\\sum_{\\langle i, j\\rangle} \\vec D_{ij} \\cdot \\left(\\vec \\sigma_i \\times\\vec \\sigma_j\\right)\n",
    "        + \\sum_{\\langle i, j\\rangle} J_{ij} \\vec \\sigma_i \\cdot \\vec \\sigma_j\n",
    "        + B \\sum_i \\sigma_i^z.\n",
    "\\end{align*}\n",
    "In [this paper](https://arxiv.org/abs/2004.13526),\n",
    "they set $J_{ij}$ being isotropic, so let's set $J_{ij} = J \\forall i, j$.\n",
    "\n",
    "They say $\\vec D_{ij}$ points in-plane and perpendicular to the bond between $i$ and $j$. I'm not 100% sure what they mean by this, but it seems like I want three versions of the vector $\\vec D_{ij}$ depending on whether $i$ and $j$ are linked horizontally or by one of two diagonal directions. In my code, I (somewhat confusingly) call these $x$, $y$, and $z$ bonds.\n",
    "\n",
    "To illustrate what my bond directions are, consider the three sites below:\n",
    "\n",
    "      2\n",
    "     / \\\n",
    "    0 - 1\n",
    "    \n",
    "In my plaquette definitions, I call the bond from 0 to 1 an `x_bond`, the bond from 1 to 2 a `y_bond`, and the bond from 2 to 0 a `z_bond`.\n",
    "\n",
    "In the X-Y plane, the `x_bond` corresponds to the unit vector $[1,0]$, \n",
    "the `y_bond` corresponds to $\\left[-\\frac{1}{2}, \\frac{\\sqrt 3}{2}\\right]$,\n",
    "and the `z_bond` is $\\left[\\frac{1}{2}, \\frac{\\sqrt 3}{2}\\right]$.\n",
    "\n",
    "Then, I think I can set $\\vec D^x = [0,1,0]$,\n",
    "$\\vec D^y = \\left[\\frac{\\sqrt 3}{2}, \\frac{1}{2}, 0\\right]$,\n",
    "and $\\vec D^z = \\left[\\frac{\\sqrt 3}{2}, -\\frac{1}{2}, 0\\right]$."
   ]
  },
  {
   "cell_type": "code",
   "execution_count": null,
   "metadata": {},
   "outputs": [],
   "source": [
    "J = -0.5\n",
    "D = {'x': np.array([0., 1., 0.]),\n",
    "     'y': np.array([0.5*np.sqrt(3), 0.5, 0]),\n",
    "     'z': np.array([0.5*np.sqrt(3), -0.5, 0])}\n",
    "B = -.8\n",
    "\n",
    "interactions = {'{}_bonds'.format(d): \n",
    "                    {'xx': J, 'yy': J, 'zz': J,\n",
    "                     'yz': D[d][0], 'zy': -D[d][0],\n",
    "                     'zx': D[d][1], 'xz': -D[d][1],\n",
    "                     'xy': D[d][2], 'yx': -D[d][2]}\n",
    "                for d in ['x', 'y', 'z']}\n",
    "interactions['local'] = {'z': B}\n",
    "print('X bond direction')\n",
    "print(interactions['x_bonds'])\n",
    "print('Y bond direction')\n",
    "print(interactions['y_bonds'])\n",
    "print('Z bond direction')\n",
    "print(interactions['z_bonds'])\n",
    "print('One-spin interactions')\n",
    "print(interactions['local'])"
   ]
  },
  {
   "cell_type": "markdown",
   "metadata": {},
   "source": [
    "To fix this inconsistency, I added an additional way of forming Hamiltonians. For some clusters, I have added lists of nearest neighbor bonds with some consistently-chosen direction (counter-clockwise in upright triangles in these cases). This seems to give equivalent results to the previous case (skipping every-other bond)"
   ]
  },
  {
   "cell_type": "code",
   "execution_count": null,
   "metadata": {},
   "outputs": [],
   "source": [
    "Hi = hmf.operators.inner_hamiltonian(plaq3, interactions, b3, checks=False)\n",
    "e, v = Hi.eigsh(k=1, which='SA')\n",
    "ei = e[0]\n",
    "Hp = hmf.operators.periodic_hamiltonian(plaq3, interactions, b3, checks=False)\n",
    "e, v = Hp.eigsh(k=1, which='SA')\n",
    "ep = e[0]\n",
    "print('ED energy with OBC: {}'.format(ei))\n",
    "print('ED energy with PBC: {}'.format(ep))\n",
    "\n",
    "e_hmft, v, mf, cvg = hmf.do_hmft(plaq3, interactions, b3)\n",
    "\n",
    "print('HMFT energy: {}'.format(e_hmft))\n",
    "print('HMFT converged? {}'.format(cvg))"
   ]
  },
  {
   "cell_type": "markdown",
   "metadata": {},
   "source": [
    "Let's look at observables as we change $B$. Specifically, let's measure scalar chirality\n",
    "$\\chi = \\sigma_0 \\cdot \\left(\\sigma_1 \\times \\sigma_2\\right)$ and magnetization $M_z = \\sum_i \\sigma_i^z$."
   ]
  },
  {
   "cell_type": "code",
   "execution_count": null,
   "metadata": {},
   "outputs": [],
   "source": [
    "Mz = quantum_operator({'static': [['z', [[1./3, i] for i in range(3)]]]}, basis=b3, check_herm=False, check_symm=False)\n",
    "chi = quantum_operator({'static': [['xyz', [[1,0,1,2]]],\n",
    "                                   ['xzy', [[-1,0,1,2]]],\n",
    "                                   ['yzx', [[1,0,1,2]]],\n",
    "                                   ['yxz', [[-1,0,1,2]]],\n",
    "                                   ['zxy', [[1,0,1,2]]],\n",
    "                                   ['zyx', [[-1,0,1,2]]]]}, basis=basis,\n",
    "                      check_herm=False, check_symm=False)\n",
    "steps = 20\n",
    "chis_hmft = np.zeros(steps)\n",
    "chis_pbc = np.zeros(steps)\n",
    "ms_hmft = np.zeros(steps)\n",
    "ms_pbc = np.zeros(steps)\n",
    "es_hmft = np.zeros(steps)\n",
    "es_pbc = np.zeros(steps)\n",
    "\n",
    "Bs = np.linspace(0, 1, steps)\n",
    "mf = None\n",
    "for i, B in enumerate(Bs):\n",
    "    interactions['local'] = {'z': B}\n",
    "    \n",
    "    Hp = hmf.operators.periodic_hamiltonian(plaq3, interactions, b3, checks=False)\n",
    "    es_pbc[i], v = Hp.eigsh(k=1, which='SA')\n",
    "    v_pbc = v[:,0]\n",
    "    chis_pbc[i] = chi.expt_value(v_pbc).real\n",
    "    ms_pbc[i] = Mz.expt_value(v_pbc).real\n",
    "    \n",
    "    es_hmft[i], v_hmft, mf, cvg = hmf.do_hmft(plaq3, interactions, b3, mf0=mf)\n",
    "    chis_hmft[i] = chi.expt_value(v_hmft).real\n",
    "    ms_hmft[i] = Mz.expt_value(v_hmft).real"
   ]
  },
  {
   "cell_type": "code",
   "execution_count": null,
   "metadata": {},
   "outputs": [],
   "source": [
    "plt.figure(figsize=(4,3), dpi=200)\n",
    "plt.plot(Bs, es_pbc, marker='.')\n",
    "plt.plot(Bs, es_hmft, marker='.')\n",
    "plt.xlabel('B')\n",
    "plt.ylabel('e')\n",
    "plt.show()\n",
    "\n",
    "plt.figure(figsize=(4,3), dpi=200)\n",
    "plt.plot(Bs, chis_pbc, marker='.')\n",
    "plt.plot(Bs, chis_hmft, marker='.')\n",
    "plt.xlabel('B')\n",
    "plt.ylabel(r'$\\chi$')\n",
    "plt.show()\n",
    "\n",
    "plt.figure(figsize=(4,3), dpi=200)\n",
    "plt.plot(Bs, ms_pbc, marker='.')\n",
    "plt.plot(Bs, ms_hmft, marker='.')\n",
    "plt.xlabel('B')\n",
    "plt.ylabel(r'$M_z$')\n",
    "plt.show()"
   ]
  },
  {
   "cell_type": "markdown",
   "metadata": {},
   "source": [
    "# 12 site\n",
    "\n",
    "Now, let's apply this to a larger (12-site) cluster:"
   ]
  },
  {
   "cell_type": "code",
   "execution_count": null,
   "metadata": {},
   "outputs": [],
   "source": [
    "Mz = quantum_operator({'static': [['z', [[1./12, i] for i in range(12)]]]}, basis=b12, \n",
    "                      check_herm=False, check_symm=False)\n",
    "tri_sites = [4,5,8]\n",
    "chi = quantum_operator({'static': [['xyz', [[1,*tri_sites]]],\n",
    "                                   ['xzy', [[-1,*tri_sites]]],\n",
    "                                   ['yzx', [[1,*tri_sites]]],\n",
    "                                   ['yxz', [[-1,*tri_sites]]],\n",
    "                                   ['zxy', [[1,*tri_sites]]],\n",
    "                                   ['zyx', [[-1,*tri_sites]]]]}, \n",
    "                       basis=b12, check_herm=False, check_symm=False)\n",
    "steps = 40\n",
    "chis_hmft = np.zeros(steps)\n",
    "chis_pbc = np.zeros(steps)\n",
    "ms_hmft = np.zeros(steps)\n",
    "ms_pbc = np.zeros(steps)\n",
    "es_hmft = np.zeros(steps)\n",
    "es_pbc = np.zeros(steps)\n",
    "\n",
    "Bs = np.linspace(0, 1, steps)\n",
    "mf = None\n",
    "for i, B in enumerate(Bs):\n",
    "    interactions['local'] = {'z': B}\n",
    "    \n",
    "    Hp = hmf.operators.periodic_hamiltonian(plaq12, interactions, b12, checks=False)\n",
    "    es_pbc[i], v = Hp.eigsh(k=1, which='SA')\n",
    "    v_pbc = v[:,0]\n",
    "    chis_pbc[i] = chi.expt_value(v_pbc).real\n",
    "    ms_pbc[i] = Mz.expt_value(v_pbc).real\n",
    "    \n",
    "    es_hmft[i], v_hmft, mf, cvg = hmf.do_hmft(plaq12, interactions, b12, mf0=mf)\n",
    "    chis_hmft[i] = chi.expt_value(v_hmft).real\n",
    "    ms_hmft[i] = Mz.expt_value(v_hmft).real"
   ]
  },
  {
   "cell_type": "code",
   "execution_count": null,
   "metadata": {},
   "outputs": [],
   "source": [
    "plt.figure(figsize=(4,3), dpi=200)\n",
    "plt.plot(Bs, es_pbc, marker='.')\n",
    "plt.plot(Bs, es_hmft, marker='.')\n",
    "plt.xlabel('B')\n",
    "plt.ylabel('e')\n",
    "plt.show()\n",
    "\n",
    "plt.figure(figsize=(4,3), dpi=200)\n",
    "plt.plot(Bs, chis_pbc, marker='.')\n",
    "plt.plot(Bs, chis_hmft, marker='.')\n",
    "plt.xlabel('B')\n",
    "plt.ylabel(r'$\\chi$')\n",
    "plt.show()\n",
    "\n",
    "plt.figure(figsize=(4,3), dpi=200)\n",
    "plt.plot(Bs, ms_pbc, marker='.')\n",
    "plt.plot(Bs, ms_hmft, marker='.')\n",
    "plt.xlabel('B')\n",
    "plt.ylabel(r'$M_z$')\n",
    "plt.show()"
   ]
  },
  {
   "cell_type": "markdown",
   "metadata": {},
   "source": [
    "# 19 site\n",
    "\n",
    "Now, let's apply this to a larger (19-site) cluster:"
   ]
  },
  {
   "cell_type": "code",
   "execution_count": null,
   "metadata": {},
   "outputs": [],
   "source": [
    "Mz = quantum_operator({'static': [['z', [[1./19, i] for i in range(19)]]]}, basis=b19, \n",
    "                      check_herm=False, check_symm=False)\n",
    "tri_sites = [4,5,9]\n",
    "chi = quantum_operator({'static': [['xyz', [[1,*tri_sites]]],\n",
    "                                   ['xzy', [[-1,*tri_sites]]],\n",
    "                                   ['yzx', [[1,*tri_sites]]],\n",
    "                                   ['yxz', [[-1,*tri_sites]]],\n",
    "                                   ['zxy', [[1,*tri_sites]]],\n",
    "                                   ['zyx', [[-1,*tri_sites]]]]}, \n",
    "                       basis=b19, check_herm=False, check_symm=False)\n",
    "steps = 20\n",
    "chis_hmft = np.zeros(steps)\n",
    "chis_pbc = np.zeros(steps)\n",
    "ms_hmft = np.zeros(steps)\n",
    "ms_pbc = np.zeros(steps)\n",
    "es_hmft = np.zeros(steps)\n",
    "es_pbc = np.zeros(steps)\n",
    "\n",
    "Bs = np.linspace(0, 1, steps)\n",
    "mf = None\n",
    "for i, B in enumerate(tqdm(Bs)):\n",
    "    interactions['local'] = {'z': B}\n",
    "    \n",
    "    Hp = hmf.operators.periodic_hamiltonian(plaq19, interactions, b19, checks=False)\n",
    "    es_pbc[i], v = Hp.eigsh(k=1, which='SA')\n",
    "    v_pbc = v[:,0]\n",
    "    chis_pbc[i] = chi.expt_value(v_pbc).real\n",
    "    ms_pbc[i] = Mz.expt_value(v_pbc).real\n",
    "    \n",
    "    # es_hmft[i], v_hmft, mf, cvg = hmf.do_hmft(plaq12, interactions, b12, mf0=mf)\n",
    "    # chis_hmft[i] = chi.expt_value(v_hmft).real\n",
    "    # ms_hmft[i] = Mz.expt_value(v_hmft).real"
   ]
  },
  {
   "cell_type": "code",
   "execution_count": null,
   "metadata": {},
   "outputs": [],
   "source": [
    "plt.figure(figsize=(4,3), dpi=200)\n",
    "plt.plot(Bs, es_pbc, marker='.')\n",
    "plt.plot(Bs, es_hmft, marker='.')\n",
    "plt.xlabel('B')\n",
    "plt.ylabel('e')\n",
    "plt.show()\n",
    "\n",
    "plt.figure(figsize=(4,3), dpi=200)\n",
    "plt.plot(Bs, chis_pbc, marker='.')\n",
    "plt.plot(Bs, chis_hmft, marker='.')\n",
    "plt.xlabel('B')\n",
    "plt.ylabel(r'$\\chi$')\n",
    "plt.show()\n",
    "\n",
    "plt.figure(figsize=(4,3), dpi=200)\n",
    "plt.plot(Bs, ms_pbc, marker='.')\n",
    "plt.plot(Bs, ms_hmft, marker='.')\n",
    "plt.xlabel('B')\n",
    "plt.ylabel(r'$M_z$')\n",
    "plt.show()"
   ]
  },
  {
   "cell_type": "code",
   "execution_count": null,
   "metadata": {},
   "outputs": [],
   "source": []
  }
 ],
 "metadata": {
  "kernelspec": {
   "display_name": "Python 3",
   "language": "python",
   "name": "python3"
  },
  "language_info": {
   "codemirror_mode": {
    "name": "ipython",
    "version": 3
   },
   "file_extension": ".py",
   "mimetype": "text/x-python",
   "name": "python",
   "nbconvert_exporter": "python",
   "pygments_lexer": "ipython3",
   "version": "3.7.6"
  }
 },
 "nbformat": 4,
 "nbformat_minor": 4
}
