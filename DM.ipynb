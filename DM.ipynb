{
 "cells": [
  {
   "cell_type": "code",
   "execution_count": null,
   "metadata": {},
   "outputs": [],
   "source": [
    "import hmftpy as hmf\n",
    "import numpy as np\n",
    "import matplotlib.pyplot as plt\n",
    "from hmftpy.plaquettes.square import plaq4\n",
    "from hmftpy.plaquettes.triangular import plaq3, plaq12\n",
    "from quspin.basis import spin_basis_1d\n",
    "from quspin.operators import quantum_operator\n",
    "from tqdm import tqdm"
   ]
  },
  {
   "cell_type": "markdown",
   "metadata": {},
   "source": [
    "# Dzyaloshinskii–Moriya interaction\n",
    "Here, we consider the DM interaction\n",
    "\\begin{align*}\n",
    "    H_{DM} =&\\vec D \\cdot \\sum_{\\langle i, j\\rangle} \\vec \\sigma_i \\times\\vec \\sigma_j\\\\\n",
    "    =&     D_x\\sum_{\\langle i, j \\rangle}\\left(\\sigma_i^y\\sigma_j^z - \\sigma_i^z \\sigma_j^y\\right)\n",
    "    +     D_y\\sum_{\\langle i, j \\rangle} \\left(\\sigma_i^z\\sigma_j^x - \\sigma_i^x \\sigma_j^z\\right)\n",
    "    +     D_z\\sum_{\\langle i, j \\rangle} \\left(\\sigma_i^x\\sigma_j^y - \\sigma_i^y \\sigma_j^x\\right).\n",
    "\\end{align*}\n",
    "For now, let's choose $D_z = 1$, $D_x=D_y=0$"
   ]
  },
  {
   "cell_type": "code",
   "execution_count": null,
   "metadata": {},
   "outputs": [],
   "source": [
    "basis = spin_basis_1d(3, pauli=0) # pauli=0 fixes the operators as spin-1/2, rather than pauli matrices\n",
    "interactions = {'nearest': {'xy': 1, 'yx': -1}}\n",
    "Hi = hmf.operators.inner_hamiltonian(plaq3, interactions, basis, every_other=True, checks=True)\n",
    "e, v = Hi.eigsh(k=1, which='SA')\n",
    "ei = e[0]\n",
    "Hp = hmf.operators.periodic_hamiltonian(plaq3, interactions, basis, every_other=True, checks=True)\n",
    "e, v = Hp.eigsh(k=1, which='SA')\n",
    "ep = e[0]\n",
    "print('ED energy with OBC: {}'.format(ei))\n",
    "print('ED energy with PBC: {}'.format(ep))\n",
    "\n",
    "e_hmft, v, mf, cvg = hmf.do_hmft(plaq3, interactions, basis, every_other=True)\n",
    "\n",
    "print('HMFT energy: {}'.format(e_hmft))\n",
    "print('HMFT converged? {}'.format(cvg))"
   ]
  },
  {
   "cell_type": "markdown",
   "metadata": {},
   "source": [
    "I want to check my work. By setting `every_other=True`, I restrict the sums to\n",
    "\\begin{equation}\n",
    "\\sum_i \\sum_{j\\in \\mathcal N(i)} \\rightarrow \\sum_i \\sum_{j\\in \\mathcal N(i), j < i}\n",
    "\\end{equation}\n",
    "where $\\mathcal N(i)$ is the list of neighbors of $i$. Without this restriction, the DMI terms cancel due to antisymmetry of the cross product.\n",
    "\n",
    "On just the three-site triangle with open BC, the interaction in the first case (with `every_other=False`) is\n",
    "\\begin{equation}\n",
    "(\\sigma_0^x\\sigma_1^y - \\sigma_0^y \\sigma_1^x)\n",
    "+ (\\sigma_0^x\\sigma_2^y - \\sigma_0^y \\sigma_2^x)\n",
    "+ (\\sigma_1^x\\sigma_0^y - \\sigma_1^y \\sigma_0^x)\n",
    "+ (\\sigma_1^x\\sigma_2^y - \\sigma_1^y \\sigma_2^x)\n",
    "+ (\\sigma_2^x\\sigma_0^y - \\sigma_2^y \\sigma_0^x)\n",
    "+ (\\sigma_2^x\\sigma_1^y - \\sigma_2^y \\sigma_1^x)=0.\n",
    "\\end{equation}\n",
    "With the restricted sum, I get\n",
    "\\begin{equation}\n",
    "(\\sigma_1^x\\sigma_0^y - \\sigma_1^y \\sigma_0^x)\n",
    "+ (\\sigma_2^x\\sigma_0^y - \\sigma_2^y \\sigma_0^x)\n",
    "+ (\\sigma_2^x\\sigma_1^y - \\sigma_2^y \\sigma_1^x).\n",
    "\\end{equation}\n",
    "If I instead sum bonds with some ordering, say $\\{0,1\\}$, $\\{1,2\\}$, $\\{2,0\\}$, I get\n",
    "\\begin{equation}\n",
    "(\\sigma_0^x\\sigma_1^y - \\sigma_0^y \\sigma_1^x)\n",
    "+ (\\sigma_1^x\\sigma_2^y - \\sigma_1^y \\sigma_2^x)\n",
    "+ (\\sigma_2^x\\sigma_0^y - \\sigma_2^y \\sigma_0^x),\n",
    "\\end{equation}\n",
    "which is not the same thing, since the terms are the same but the signs are not. What results do we get from this case?"
   ]
  },
  {
   "cell_type": "code",
   "execution_count": null,
   "metadata": {},
   "outputs": [],
   "source": [
    "dm_lst = [['xy', [[1, 0, 1], [1, 1, 2], [1, 2, 0]]],\n",
    "          ['yx', [[-1, 0, 1], [-1, 1, 2], [-1, 2, 0]]]\n",
    "         ]\n",
    "H_dm = quantum_operator({'static': dm_lst}, basis=basis)\n",
    "dm_lst = [['xy', [[1, 0, 1], [1, 1, 2], [1, 2, 0]]],\n",
    "          ['yx', [[-1, 0, 1], [-1, 1, 2], [-1, 2, 0]]]\n",
    "         ]\n",
    "e, v = H_dm.eigh()\n",
    "print(e[0])"
   ]
  },
  {
   "cell_type": "markdown",
   "metadata": {},
   "source": [
    "To fix this inconsistency, I added an additional way of forming Hamiltonians. For some clusters, I have added lists of nearest neighbor bonds with some consistently-chosen direction (counter-clockwise in upright triangles in these cases). This seems to give equivalent results to the previous case (skipping every-other bond)"
   ]
  },
  {
   "cell_type": "code",
   "execution_count": null,
   "metadata": {},
   "outputs": [],
   "source": [
    "basis = spin_basis_1d(3, pauli=0) # pauli=0 fixes the operators as spin-1/2, rather than pauli matrices\n",
    "interactions = {'x_bonds': {'xy': 1, 'yx': -1}, 'y_bonds': {'xy': 1, 'yx': -1}, 'z_bonds': {'xy': 1, 'yx': -1}}\n",
    "Hi = hmf.operators.inner_hamiltonian(plaq3, interactions, basis, checks=True)\n",
    "e, v = Hi.eigsh(k=1, which='SA')\n",
    "ei = e[0]\n",
    "Hp = hmf.operators.periodic_hamiltonian(plaq3, interactions, basis, checks=True)\n",
    "e, v = Hp.eigsh(k=1, which='SA')\n",
    "ep = e[0]\n",
    "print('ED energy with OBC: {}'.format(ei))\n",
    "print('ED energy with PBC: {}'.format(ep))\n",
    "\n",
    "e_hmft, v, mf, cvg = hmf.do_hmft(plaq3, interactions, basis)\n",
    "\n",
    "print('HMFT energy: {}'.format(e_hmft))\n",
    "print('HMFT converged? {}'.format(cvg))"
   ]
  },
  {
   "cell_type": "code",
   "execution_count": null,
   "metadata": {},
   "outputs": [],
   "source": [
    "basis = spin_basis_1d(12, pauli=0) # pauli=0 fixes the operators as spin-1/2, rather than pauli matrices\n",
    "interactions = {'nearest': {'xy': 1, 'yx': -1}}\n",
    "Hi = hmf.operators.inner_hamiltonian(plaq12, interactions, basis, every_other=True, checks=True)\n",
    "e, v = Hi.eigsh(k=1, which='SA')\n",
    "ei = e[0]\n",
    "Hp = hmf.operators.periodic_hamiltonian(plaq12, interactions, basis, every_other=True, checks=True)\n",
    "e, v = Hp.eigsh(k=1, which='SA')\n",
    "ep = e[0]\n",
    "print('ED energy with OBC: {}'.format(ei))\n",
    "print('ED energy with PBC: {}'.format(ep))\n",
    "\n",
    "e_hmft, v, mf, cvg = hmf.do_hmft(plaq12, interactions, basis, every_other=True)\n",
    "\n",
    "print('HMFT energy: {}'.format(e_hmft))\n",
    "print('HMFT converged? {}'.format(cvg))\n",
    "\n",
    "interactions = {'x_bonds': {'xy': 1, 'yx': -1}, 'y_bonds': {'xy': 1, 'yx': -1}, 'z_bonds': {'xy': 1, 'yx': -1}}\n",
    "Hi = hmf.operators.inner_hamiltonian(plaq12, interactions, basis, checks=True)\n",
    "e, v = Hi.eigsh(k=1, which='SA')\n",
    "ei = e[0]\n",
    "Hp = hmf.operators.periodic_hamiltonian(plaq12, interactions, basis, checks=True)\n",
    "e, v = Hp.eigsh(k=1, which='SA')\n",
    "ep = e[0]\n",
    "print('ED energy with OBC: {}'.format(ei))\n",
    "print('ED energy with PBC: {}'.format(ep))\n",
    "\n",
    "e_hmft, v, mf, cvg = hmf.do_hmft(plaq12, interactions, basis)\n",
    "\n",
    "print('HMFT energy: {}'.format(e_hmft))\n",
    "print('HMFT converged? {}'.format(cvg))"
   ]
  }
 ],
 "metadata": {
  "kernelspec": {
   "display_name": "Python 3",
   "language": "python",
   "name": "python3"
  },
  "language_info": {
   "codemirror_mode": {
    "name": "ipython",
    "version": 3
   },
   "file_extension": ".py",
   "mimetype": "text/x-python",
   "name": "python",
   "nbconvert_exporter": "python",
   "pygments_lexer": "ipython3",
   "version": "3.7.6"
  }
 },
 "nbformat": 4,
 "nbformat_minor": 4
}
