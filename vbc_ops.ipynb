{
 "cells": [
  {
   "cell_type": "code",
   "execution_count": 1,
   "metadata": {},
   "outputs": [],
   "source": [
    "import hmftpy as hmf\n",
    "from hmftpy.plaquettes.triangular import plaq12, plaq12z, plaq9p, plaq9d, plaq3\n",
    "from hmftpy.operators import mf_ops, inner_hamiltonian, periodic_hamiltonian\n",
    "from hmftpy import do_hmft\n",
    "from hmftpy.hmf import get_mfs\n",
    "from hmftpy.plot_spins import draw_tri_lattice, draw_cluster, plot_spins\n",
    "from quspin.basis import spin_basis_1d\n",
    "from quspin.operators import quantum_operator\n",
    "from tqdm import tqdm\n",
    "import matplotlib.pyplot as plt\n",
    "import numpy as np\n",
    "\n",
    "plaq = plaq12\n",
    "L = plaq['L']\n",
    "basis = spin_basis_1d(L, pauli=0)\n",
    "\n",
    "ops = hmf.operators.mf_ops(plaq, basis)\n",
    "maxit=50\n",
    "steps = 40"
   ]
  },
  {
   "cell_type": "markdown",
   "metadata": {},
   "source": [
    "I want to look for singlet correlations forming within the 4-site diamonds in the lattice.\n",
    "There are two arrangements of these diamonds that have the appropriate $C_3$ symmetry. Here, I will plot a single one of those diamonds."
   ]
  },
  {
   "cell_type": "code",
   "execution_count": 2,
   "metadata": {},
   "outputs": [],
   "source": [
    "def plot_line(a, b, color='black'):\n",
    "    plt.plot([a[0], b[0]], [a[1], b[1]], color=color)"
   ]
  },
  {
   "cell_type": "code",
   "execution_count": 3,
   "metadata": {},
   "outputs": [
    {
     "data": {
      "image/png": "[encoded data removed]",
      "text/plain": [
       "<Figure size 400x400 with 1 Axes>"
      ]
     },
     "metadata": {},
     "output_type": "display_data"
    }
   ],
   "source": [
    "a1 = np.array((1, 0))\n",
    "a2 = np.array((-0.5, 0.5*np.sqrt(3)))\n",
    "a0 = np.array((0.5, 0.5*np.sqrt(3)))\n",
    "\n",
    "b1 = 2*np.pi*np.array((1, -1/np.sqrt(3)))\n",
    "b2 = 4*np.pi*np.array((0, 1/np.sqrt(3)))\n",
    "\n",
    "M = np.pi*np.array((1, 1/np.sqrt(3)))\n",
    "K = np.pi*np.array((4/3, 0))\n",
    "\n",
    "plt.figure(figsize=(2,2), dpi=200)\n",
    "rs = [(0,0), a1, 2*a1,\n",
    "      a2, a2+a1, a2+2*a1, a2+3*a1,\n",
    "      2*a2+a1, 2*a2+2*a1, 2*a2+3*a1,\n",
    "      3*a2+2*a1, 3*a2+3*a1]\n",
    "rx = [r[0] for r in rs]\n",
    "ry = [r[1] for r in rs]\n",
    "plt.scatter(rx, ry, color='magenta')\n",
    "for i, r in enumerate(rs):\n",
    "    plt.text(r[0], r[1], i)\n",
    "\n",
    "plt.xticks([])\n",
    "plt.yticks([])\n",
    "plt.show()"
   ]
  },
  {
   "cell_type": "markdown",
   "metadata": {},
   "source": [
    "I want to look at a superposition of singlets along the red and blue bonds:\n",
    "\n",
    "\\begin{align}\n",
    "C_\\diamond^r =& \\vec \\sigma_0 \\cdot \\vec \\sigma_1 + \\vec \\sigma_3 \\cdot \\vec\\sigma_4\\\\\n",
    "C_\\diamond^b =& \\vec \\sigma_0 \\cdot \\vec \\sigma_3 + \\vec \\sigma_1 \\cdot \\vec\\sigma_4\n",
    "\\end{align}\n",
    "\n",
    "Alternatively, we can look at singlets on the green/orange bonds:\n",
    "\\begin{align}\n",
    "C_\\diamond^g =& \\vec \\sigma_1 \\cdot \\vec \\sigma_2 + \\vec \\sigma_5 \\cdot \\vec\\sigma_6\\\\\n",
    "C_\\diamond^o =& \\vec \\sigma_1 \\cdot \\vec \\sigma_5 + \\vec \\sigma_2 \\cdot \\vec\\sigma_6\n",
    "\\end{align}"
   ]
  },
  {
   "cell_type": "code",
   "execution_count": 4,
   "metadata": {},
   "outputs": [
    {
     "name": "stdout",
     "output_type": "stream",
     "text": [
      "Hermiticity check passed!\n",
      "Symmetry checks passed!\n",
      "Hermiticity check passed!\n",
      "Symmetry checks passed!\n",
      "Hermiticity check passed!\n",
      "Symmetry checks passed!\n",
      "Hermiticity check passed!\n",
      "Symmetry checks passed!\n"
     ]
    }
   ],
   "source": [
    "reds = [[0,1], [3,4], [7,10], [8,11], [2,5], [6,9]]\n",
    "blues = [[0,3], [1,4], [7,8], [10,11], [2,6], [5,9]]\n",
    "\n",
    "greens = [[1,5], [2,6], [8,9], [10,11], [0,3], [4,7]]\n",
    "oranges = [[1,2], [5,6], [8,10], [9,11], [0,4], [3,7]]\n",
    "\n",
    "red_op_lst = [['xx', [[1, r[0], r[1]] for r in reds]],\n",
    "              ['yy', [[1, r[0], r[1]] for r in reds]],\n",
    "              ['zz', [[0, r[0], r[1]] for r in reds]]]\n",
    "blue_op_lst = [['xx', [[1, b[0], b[1]] for b in blues]],\n",
    "               ['yy', [[1, b[0], b[1]] for b in blues]],\n",
    "               ['zz', [[0, b[0], b[1]] for b in blues]]]\n",
    "green_op_lst = [['xx', [[1, r[0], r[1]] for r in greens]],\n",
    "              ['yy', [[1, r[0], r[1]] for r in greens]],\n",
    "              ['zz', [[0, r[0], r[1]] for r in greens]]]\n",
    "orange_op_lst = [['xx', [[1, b[0], b[1]] for b in oranges]],\n",
    "               ['yy', [[1, b[0], b[1]] for b in oranges]],\n",
    "               ['zz', [[0, b[0], b[1]] for b in oranges]]]\n",
    "red_ops = quantum_operator({'static': red_op_lst}, basis=basis)\n",
    "blue_ops = quantum_operator({'static': blue_op_lst}, basis=basis)\n",
    "green_ops = quantum_operator({'static': green_op_lst}, basis=basis)\n",
    "orange_ops = quantum_operator({'static': orange_op_lst}, basis=basis)"
   ]
  },
  {
   "cell_type": "code",
   "execution_count": 5,
   "metadata": {},
   "outputs": [
    {
     "data": {
      "image/png": "[encoded data removed]",
      "text/plain": [
       "<Figure size 432x288 with 1 Axes>"
      ]
     },
     "metadata": {
      "needs_background": "light"
     },
     "output_type": "display_data"
    }
   ],
   "source": [
    "for r in reds:\n",
    "    r1 = rs[r[0]]\n",
    "    r2 = rs[r[1]]\n",
    "    plot_line(r1, r2, color='red')\n",
    "for b in blues:\n",
    "    r1 = rs[b[0]]\n",
    "    r2 = rs[b[1]]\n",
    "    plot_line(r1, r2, color='blue')"
   ]
  },
  {
   "cell_type": "code",
   "execution_count": 6,
   "metadata": {},
   "outputs": [
    {
     "data": {
      "image/png": "[encoded data removed]",
      "text/plain": [
       "<Figure size 432x288 with 1 Axes>"
      ]
     },
     "metadata": {
      "needs_background": "light"
     },
     "output_type": "display_data"
    }
   ],
   "source": [
    "for g in greens:\n",
    "    r1 = rs[g[0]]\n",
    "    r2 = rs[g[1]]\n",
    "    plot_line(r1, r2, color='green')\n",
    "for o in oranges:\n",
    "    r1 = rs[o[0]]\n",
    "    r2 = rs[o[1]]\n",
    "    plot_line(r1, r2, color='orange')"
   ]
  },
  {
   "cell_type": "markdown",
   "metadata": {},
   "source": [
    "We should also consider dimers. Note that the four colors mentioned above form all the non-competing dimer structures. "
   ]
  },
  {
   "cell_type": "code",
   "execution_count": 7,
   "metadata": {},
   "outputs": [
    {
     "data": {
      "image/png": "[encoded data removed]",
      "text/plain": [
       "<Figure size 432x288 with 1 Axes>"
      ]
     },
     "metadata": {
      "needs_background": "light"
     },
     "output_type": "display_data"
    },
    {
     "data": {
      "image/png": "[encoded data removed]",
      "text/plain": [
       "<Figure size 432x288 with 1 Axes>"
      ]
     },
     "metadata": {
      "needs_background": "light"
     },
     "output_type": "display_data"
    }
   ],
   "source": [
    "pinks = [[0,3], [1,4], [2,6], [5,9], [7,8], [10,11]]\n",
    "purps = [[0,3], [4,7], [2,6], [1,5], [8,9], [10,11]]\n",
    "cyans = [[0,1], [3,4], [2,5], [6,9], [7,10], [8,11]]\n",
    "for p in pinks:\n",
    "    r1 = rs[p[0]]\n",
    "    r2 = rs[p[1]]\n",
    "    plot_line(r1, r2, color='magenta')\n",
    "for p in cyans:\n",
    "    r1 = rs[p[0]]\n",
    "    r2 = rs[p[1]]\n",
    "    plot_line(r1, r2, color='cyan')\n",
    "plt.show()\n",
    "for p in purps:\n",
    "    r1 = rs[p[0]]\n",
    "    r2 = rs[p[1]]\n",
    "    plot_line(r1, r2, color='purple')\n",
    "plt.show()\n"
   ]
  },
  {
   "cell_type": "markdown",
   "metadata": {},
   "source": [
    "## Low $J_2$ phase"
   ]
  },
  {
   "cell_type": "code",
   "execution_count": 8,
   "metadata": {},
   "outputs": [
    {
     "name": "stdout",
     "output_type": "stream",
     "text": [
      "Energy: -4.357977947618582\n",
      "Converged? True\n"
     ]
    }
   ],
   "source": [
    "interactions = {'local': {},\n",
    "                'nearest': {'xx': 1, 'yy': 1, 'zz': 0},\n",
    "                'n_nearest': {'xx': .01, 'yy': .01, 'zz': 0}}\n",
    "e, v, mf, cvg = do_hmft(plaq, interactions, basis, \n",
    "                        max_iter=maxit, mf0=None, \n",
    "                        ops=ops, hmft_tol=10**-8,\n",
    "                        lanczos_tol=10**-11,\n",
    "                        mf_cvg=False, every_other=True)\n",
    "print('Energy: {}'.format(e))\n",
    "print('Converged? {}'.format(cvg))"
   ]
  },
  {
   "cell_type": "code",
   "execution_count": 9,
   "metadata": {},
   "outputs": [
    {
     "name": "stdout",
     "output_type": "stream",
     "text": [
      "Red correlator: (-0.8212685219737742+4.163336342344337e-17j)\n",
      "Blue correlator: (-1.3217406773633578-6.938893903907228e-17j)\n",
      "Green correlator: (-0.8212685219737742+4.163336342344337e-17j)\n",
      "Orange correlator: (-1.3217406773633578-6.938893903907228e-17j)\n",
      "Clockwise correlator: (-2.1430091993371323-1.3877787807814457e-16j)\n",
      "Clockwise correlator: (-2.1426828716384296+2.7755575615628914e-17j)\n"
     ]
    }
   ],
   "source": [
    "r = red_ops.matrix_ele(v, v)\n",
    "print('Red correlator: {}'.format(r))\n",
    "b = blue_ops.matrix_ele(v, v)\n",
    "print('Blue correlator: {}'.format(b))\n",
    "g = green_ops.matrix_ele(v, v)\n",
    "print('Green correlator: {}'.format(r))\n",
    "o = orange_ops.matrix_ele(v, v)\n",
    "print('Orange correlator: {}'.format(b))\n",
    "\n",
    "cw = (red_ops + blue_ops).matrix_ele(v,v)\n",
    "print('Clockwise correlator: {}'.format(cw))\n",
    "ccw = (green_ops + orange_ops).matrix_ele(v,v)\n",
    "print('Clockwise correlator: {}'.format(ccw))"
   ]
  },
  {
   "cell_type": "markdown",
   "metadata": {},
   "source": [
    "# Disordered phase"
   ]
  },
  {
   "cell_type": "code",
   "execution_count": 10,
   "metadata": {},
   "outputs": [
    {
     "name": "stdout",
     "output_type": "stream",
     "text": [
      "Energy: -3.748188885819312\n",
      "Converged? True\n"
     ]
    }
   ],
   "source": [
    "interactions = {'local': {},\n",
    "                'nearest': {'xx': 1, 'yy': 1, 'zz': 0},\n",
    "                'n_nearest': {'xx': .18, 'yy': .18, 'zz': 0}}\n",
    "e, v, mf, cvg = do_hmft(plaq, interactions, basis, \n",
    "                        max_iter=maxit, mf0=None, \n",
    "                        ops=ops, hmft_tol=10**-8,\n",
    "                        lanczos_tol=10**-11,\n",
    "                        mf_cvg=False, every_other=True)\n",
    "print('Energy: {}'.format(e))\n",
    "print('Converged? {}'.format(cvg))"
   ]
  },
  {
   "cell_type": "code",
   "execution_count": 11,
   "metadata": {},
   "outputs": [
    {
     "name": "stdout",
     "output_type": "stream",
     "text": [
      "Red correlator: (-0.8611167110656412+0j)\n",
      "Blue correlator: (-1.4161734885673731-1.1102230246251565e-16j)\n",
      "Green correlator: (-0.8611167110656412+0j)\n",
      "Orange correlator: (-1.4161734885673731-1.1102230246251565e-16j)\n",
      "Clockwise correlator: (-2.277290199633014-1.1102230246251565e-16j)\n",
      "Clockwise correlator: (-2.2772902671610797-2.7755575615628914e-16j)\n"
     ]
    }
   ],
   "source": [
    "r = red_ops.matrix_ele(v, v)\n",
    "print('Red correlator: {}'.format(r))\n",
    "b = blue_ops.matrix_ele(v, v)\n",
    "print('Blue correlator: {}'.format(b))\n",
    "g = green_ops.matrix_ele(v, v)\n",
    "print('Green correlator: {}'.format(r))\n",
    "o = orange_ops.matrix_ele(v, v)\n",
    "print('Orange correlator: {}'.format(b))\n",
    "\n",
    "cw = (red_ops + blue_ops).matrix_ele(v,v)\n",
    "print('Clockwise correlator: {}'.format(cw))\n",
    "ccw = (green_ops + orange_ops).matrix_ele(v,v)\n",
    "print('Clockwise correlator: {}'.format(ccw))"
   ]
  },
  {
   "cell_type": "markdown",
   "metadata": {},
   "source": [
    "# Stripey phase"
   ]
  },
  {
   "cell_type": "code",
   "execution_count": 12,
   "metadata": {},
   "outputs": [
    {
     "name": "stdout",
     "output_type": "stream",
     "text": [
      "Energy: -4.8421973872516855\n",
      "Converged? True\n"
     ]
    }
   ],
   "source": [
    "interactions = {'local': {},\n",
    "                'nearest': {'xx': 1, 'yy': 1, 'zz': 0},\n",
    "                'n_nearest': {'xx': .5, 'yy': .5, 'zz': 0}}\n",
    "e, v, mf, cvg = do_hmft(plaq, interactions, basis, \n",
    "                        max_iter=maxit, mf0=None, \n",
    "                        ops=ops, hmft_tol=10**-8,\n",
    "                        lanczos_tol=10**-11,\n",
    "                        mf_cvg=False, every_other=True)\n",
    "print('Energy: {}'.format(e))\n",
    "print('Converged? {}'.format(cvg))"
   ]
  },
  {
   "cell_type": "code",
   "execution_count": 13,
   "metadata": {},
   "outputs": [
    {
     "name": "stdout",
     "output_type": "stream",
     "text": [
      "Red correlator: (-0.7684981162086703+1.734723475976807e-18j)\n",
      "Blue correlator: (-0.7487910815721763-6.938893903907228e-18j)\n",
      "Green correlator: (-0.7684981162086703+1.734723475976807e-18j)\n",
      "Orange correlator: (-0.7487910815721763-6.938893903907228e-18j)\n",
      "Clockwise correlator: (-1.5172891977808463-2.0816681711721685e-17j)\n",
      "Clockwise correlator: (-1.4194395810634024+4.163336342344337e-17j)\n"
     ]
    }
   ],
   "source": [
    "r = red_ops.matrix_ele(v, v)\n",
    "print('Red correlator: {}'.format(r))\n",
    "b = blue_ops.matrix_ele(v, v)\n",
    "print('Blue correlator: {}'.format(b))\n",
    "g = green_ops.matrix_ele(v, v)\n",
    "print('Green correlator: {}'.format(r))\n",
    "o = orange_ops.matrix_ele(v, v)\n",
    "print('Orange correlator: {}'.format(b))\n",
    "\n",
    "cw = (red_ops + blue_ops).matrix_ele(v,v)\n",
    "print('Clockwise correlator: {}'.format(cw))\n",
    "ccw = (green_ops + orange_ops).matrix_ele(v,v)\n",
    "print('Clockwise correlator: {}'.format(ccw))"
   ]
  },
  {
   "cell_type": "markdown",
   "metadata": {},
   "source": [
    "# Correlators in individual diamonds\n"
   ]
  },
  {
   "cell_type": "code",
   "execution_count": 14,
   "metadata": {},
   "outputs": [
    {
     "name": "stdout",
     "output_type": "stream",
     "text": [
      "Hermiticity check passed!\n",
      "Symmetry checks passed!\n",
      "Hermiticity check passed!\n",
      "Symmetry checks passed!\n",
      "Hermiticity check passed!\n",
      "Symmetry checks passed!\n",
      "Hermiticity check passed!\n",
      "Symmetry checks passed!\n",
      "Hermiticity check passed!\n",
      "Symmetry checks passed!\n",
      "Hermiticity check passed!\n",
      "Symmetry checks passed!\n"
     ]
    }
   ],
   "source": [
    "reds = [[0,1], [3,4], [7,10], [8,11], [2,5], [6,9]]\n",
    "blues = [[0,3], [1,4], [7,8], [10,11], [2,6], [5,9]]\n",
    "\n",
    "greens = [[1,5], [2,6], [8,9], [10,11], [0,3], [4,7]]\n",
    "oranges = [[1,2], [5,6], [8,10], [9,11], [0,4], [3,7]]\n",
    "\n",
    "\n",
    "diam_1 = [[\n",
    "            [[0,1], [3,4]],\n",
    "            [[0,3], [1,4]]\n",
    "            ],[\n",
    "            [[7,10], [8,11]],\n",
    "            [[7,8], [10,11]]\n",
    "            ],[\n",
    "            [[2,5], [6,9]],\n",
    "            [[2,6], [5,9]]\n",
    "            ]]\n",
    "\n",
    "diam_2 = [[\n",
    "            [[1,5], [2,6]],\n",
    "            [[1,2], [5,6]]\n",
    "            ],[\n",
    "            [[8,9], [10,11]],\n",
    "            [[8,10], [9,11]]\n",
    "            ],[\n",
    "            [[0,3], [4,7]],\n",
    "            [[0,4], [3,7]]\n",
    "            ]]\n",
    "\n",
    "diam_1_lst = [[] for i in range(3)]\n",
    "diam_2_lst = [[] for i in range(3)]\n",
    "\n",
    "for i in range(3):\n",
    "    d = diam_1[i]\n",
    "    r_bonds = d[0]\n",
    "    b_bonds = d[1]\n",
    "    diam_1_lst[i] += [['xx', [[1, r[0], r[1]] for r in r_bonds]],\n",
    "                         ['yy', [[1, r[0], r[1]] for r in r_bonds]],\n",
    "                         ['zz', [[1, r[0], r[1]] for r in r_bonds]]]\n",
    "    d = diam_2[i]\n",
    "    r_bonds = d[0]\n",
    "    b_bonds = d[1]\n",
    "    diam_2_lst[i] += [['xx', [[1, b[0], b[1]] for b in b_bonds]],\n",
    "                         ['yy', [[1, b[0], b[1]] for b in b_bonds]],\n",
    "                         ['zz', [[1, b[0], b[1]] for b in b_bonds]]]\n",
    "\n",
    "diam_1_ops = [quantum_operator({'static': dl}, basis=basis) for dl in diam_1_lst]\n",
    "diam_2_ops = [quantum_operator({'static': dl}, basis=basis) for dl in diam_2_lst]"
   ]
  },
  {
   "cell_type": "code",
   "execution_count": 15,
   "metadata": {},
   "outputs": [
    {
     "name": "stdout",
     "output_type": "stream",
     "text": [
      "Energy: -4.3579779485024766\n",
      "Converged? True\n"
     ]
    }
   ],
   "source": [
    "interactions = {'local': {},\n",
    "                'nearest': {'xx': 1, 'yy': 1, 'zz': 0},\n",
    "                'n_nearest': {'xx': .01, 'yy': .01, 'zz': 0}}\n",
    "e, v, mf, cvg = do_hmft(plaq, interactions, basis, \n",
    "                        max_iter=maxit, mf0=None, \n",
    "                        ops=ops, hmft_tol=10**-8,\n",
    "                        lanczos_tol=10**-11,\n",
    "                        mf_cvg=False, every_other=True)\n",
    "print('Energy: {}'.format(e))\n",
    "print('Converged? {}'.format(cvg))"
   ]
  },
  {
   "cell_type": "code",
   "execution_count": 16,
   "metadata": {},
   "outputs": [
    {
     "name": "stdout",
     "output_type": "stream",
     "text": [
      "Clockwise diamonds\n",
      "Diamond expt values\n",
      "(-0.4534954475308618+2.0816681711721685e-17j)\n",
      "(-0.3725307050953844+5.551115123125783e-17j)\n",
      "(-0.25912405536624905+1.214306433183765e-17j)\n",
      "Diamond correlators\n",
      "0-1\n",
      "(0.23754416389770214-3.469446951953614e-18j)\n",
      "0-2\n",
      "(0.18995908509751525+2.7755575615628914e-17j)\n",
      "\n",
      "Counterclockwise diamonds\n",
      "Diamond expt values\n",
      "(-0.45321876645126946+3.469446951953614e-17j)\n",
      "(-0.37115628939084866-3.469446951953614e-18j)\n",
      "(-0.25919265170556305+1.3877787807814457e-17j)\n",
      "Diamond correlators\n",
      "0-1\n",
      "(0.236514675209391+1.734723475976807e-17j)\n",
      "0-2\n",
      "(0.1901076135422527+0j)\n"
     ]
    }
   ],
   "source": [
    "print('Clockwise diamonds')\n",
    "diamonds = [d.expt_value(v) for d in diam_1_ops]\n",
    "print('Diamond expt values')\n",
    "for d in diamonds:\n",
    "    print(d)\n",
    "print('Diamond correlators')\n",
    "print('0-1')\n",
    "print(diam_1_ops[0].matrix_ele(diam_1_ops[1].dot(v), v))\n",
    "print('0-2')\n",
    "print(diam_1_ops[0].matrix_ele(diam_1_ops[2].dot(v), v))\n",
    "print('')\n",
    "print('Counterclockwise diamonds')\n",
    "diamonds = [d.expt_value(v) for d in diam_2_ops]\n",
    "print('Diamond expt values')\n",
    "for d in diamonds:\n",
    "    print(d)\n",
    "print('Diamond correlators')\n",
    "print('0-1')\n",
    "print(diam_2_ops[0].matrix_ele(diam_2_ops[1].dot(v), v))\n",
    "print('0-2')\n",
    "print(diam_2_ops[0].matrix_ele(diam_2_ops[2].dot(v), v))"
   ]
  },
  {
   "cell_type": "code",
   "execution_count": 17,
   "metadata": {},
   "outputs": [
    {
     "name": "stdout",
     "output_type": "stream",
     "text": [
      "Energy: -3.748188886258615\n",
      "Converged? True\n"
     ]
    }
   ],
   "source": [
    "interactions = {'local': {},\n",
    "                'nearest': {'xx': 1, 'yy': 1, 'zz': 0},\n",
    "                'n_nearest': {'xx': .18, 'yy': .18, 'zz': 0}}\n",
    "e, v, mf, cvg = do_hmft(plaq, interactions, basis, \n",
    "                        max_iter=maxit, mf0=None, \n",
    "                        ops=ops, hmft_tol=10**-8,\n",
    "                        lanczos_tol=10**-11,\n",
    "                        mf_cvg=False, every_other=True)\n",
    "print('Energy: {}'.format(e))\n",
    "print('Converged? {}'.format(cvg))"
   ]
  },
  {
   "cell_type": "code",
   "execution_count": 18,
   "metadata": {},
   "outputs": [
    {
     "name": "stdout",
     "output_type": "stream",
     "text": [
      "Clockwise diamonds\n",
      "Diamond expt values\n",
      "(-0.4071971096358347-1.3877787807814457e-17j)\n",
      "(-0.4071971116912445-2.0816681711721685e-17j)\n",
      "(-0.40719710067580644+6.938893903907228e-18j)\n",
      "Diamond correlators\n",
      "0-1\n",
      "(0.34373548421711175+1.3877787807814457e-17j)\n",
      "0-2\n",
      "(0.34373548189418174+0j)\n",
      "\n",
      "Counterclockwise diamonds\n",
      "Diamond expt values\n",
      "(-0.40719713281798625+4.163336342344337e-17j)\n",
      "(-0.4071971262482462-1.3877787807814457e-17j)\n",
      "(-0.4071971288626114-3.469446951953614e-17j)\n",
      "Diamond correlators\n",
      "0-1\n",
      "(0.3437355022051066+1.3877787807814457e-17j)\n",
      "0-2\n",
      "(0.34373550314340634+2.0816681711721685e-17j)\n"
     ]
    }
   ],
   "source": [
    "print('Clockwise diamonds')\n",
    "diamonds = [d.expt_value(v) for d in diam_1_ops]\n",
    "print('Diamond expt values')\n",
    "for d in diamonds:\n",
    "    print(d)\n",
    "print('Diamond correlators')\n",
    "print('0-1')\n",
    "print(diam_1_ops[0].matrix_ele(diam_1_ops[1].dot(v), v))\n",
    "print('0-2')\n",
    "print(diam_1_ops[0].matrix_ele(diam_1_ops[2].dot(v), v))\n",
    "print('')\n",
    "print('Counterclockwise diamonds')\n",
    "diamonds = [d.expt_value(v) for d in diam_2_ops]\n",
    "print('Diamond expt values')\n",
    "for d in diamonds:\n",
    "    print(d)\n",
    "print('Diamond correlators')\n",
    "print('0-1')\n",
    "print(diam_2_ops[0].matrix_ele(diam_2_ops[1].dot(v), v))\n",
    "print('0-2')\n",
    "print(diam_2_ops[0].matrix_ele(diam_2_ops[2].dot(v), v))"
   ]
  },
  {
   "cell_type": "code",
   "execution_count": 19,
   "metadata": {},
   "outputs": [
    {
     "name": "stdout",
     "output_type": "stream",
     "text": [
      "Energy: -4.838965480009321\n",
      "Converged? False\n"
     ]
    }
   ],
   "source": [
    "interactions = {'local': {},\n",
    "                'nearest': {'xx': 1, 'yy': 1, 'zz': 0},\n",
    "                'n_nearest': {'xx': .5, 'yy': .5, 'zz': 0}}\n",
    "e, v, mf, cvg = do_hmft(plaq, interactions, basis, \n",
    "                        max_iter=maxit, mf0=None, \n",
    "                        ops=ops, hmft_tol=10**-8,\n",
    "                        lanczos_tol=10**-11,\n",
    "                        mf_cvg=False, every_other=True)\n",
    "print('Energy: {}'.format(e))\n",
    "print('Converged? {}'.format(cvg))"
   ]
  },
  {
   "cell_type": "code",
   "execution_count": 20,
   "metadata": {},
   "outputs": [
    {
     "name": "stdout",
     "output_type": "stream",
     "text": [
      "Clockwise diamonds\n",
      "Diamond expt values\n",
      "(0.4346998885153528+5.551115123125783e-17j)\n",
      "(-0.6652270274922638-2.7755575615628914e-17j)\n",
      "(-0.6332413073865804+8.326672684688674e-17j)\n",
      "Diamond correlators\n",
      "0-1\n",
      "(-0.29575345592814967+1.3877787807814457e-17j)\n",
      "0-2\n",
      "(-0.28349624997808964-2.7755575615628914e-17j)\n",
      "\n",
      "Counterclockwise diamonds\n",
      "Diamond expt values\n",
      "(0.4167177136348801-1.3877787807814457e-17j)\n",
      "(-0.658697316879862+0j)\n",
      "(-0.6668631559367517-8.326672684688674e-17j)\n",
      "Diamond correlators\n",
      "0-1\n",
      "(-0.28117229268472654-2.7755575615628914e-17j)\n",
      "0-2\n",
      "(-0.2815293198292905+5.551115123125783e-17j)\n"
     ]
    }
   ],
   "source": [
    "print('Clockwise diamonds')\n",
    "diamonds = [d.expt_value(v) for d in diam_1_ops]\n",
    "print('Diamond expt values')\n",
    "for d in diamonds:\n",
    "    print(d)\n",
    "print('Diamond correlators')\n",
    "print('0-1')\n",
    "print(diam_1_ops[0].matrix_ele(diam_1_ops[1].dot(v), v))\n",
    "print('0-2')\n",
    "print(diam_1_ops[0].matrix_ele(diam_1_ops[2].dot(v), v))\n",
    "print('')\n",
    "print('Counterclockwise diamonds')\n",
    "diamonds = [d.expt_value(v) for d in diam_2_ops]\n",
    "print('Diamond expt values')\n",
    "for d in diamonds:\n",
    "    print(d)\n",
    "print('Diamond correlators')\n",
    "print('0-1')\n",
    "print(diam_2_ops[0].matrix_ele(diam_2_ops[1].dot(v), v))\n",
    "print('0-2')\n",
    "print(diam_2_ops[0].matrix_ele(diam_2_ops[2].dot(v), v))"
   ]
  },
  {
   "cell_type": "markdown",
   "metadata": {},
   "source": [
    "# Running a path\n",
    "Let's go from low J2 to high J2:"
   ]
  },
  {
   "cell_type": "code",
   "execution_count": 21,
   "metadata": {},
   "outputs": [],
   "source": [
    "J2s = np.linspace(0, 0.19, steps)\n",
    "diamonds_cw = np.zeros((3, steps))\n",
    "diamonds_ccw = np.zeros((3, steps))\n",
    "dimers = np.zeros((4,steps))\n",
    "dimer_ops = [red_ops, blue_ops, green_ops, orange_ops]\n",
    "\n",
    "energies = np.zeros(steps)"
   ]
  },
  {
   "cell_type": "code",
   "execution_count": 22,
   "metadata": {},
   "outputs": [
    {
     "name": "stderr",
     "output_type": "stream",
     "text": [
      "  0%|          | 0/40 [00:00<?, ?it/s]/Users/wholdhus/anaconda3/lib/python3.7/site-packages/ipykernel_launcher.py:12: ComplexWarning: Casting complex values to real discards the imaginary part\n",
      "  if sys.path[0] == '':\n",
      "/Users/wholdhus/anaconda3/lib/python3.7/site-packages/ipykernel_launcher.py:13: ComplexWarning: Casting complex values to real discards the imaginary part\n",
      "  del sys.path[0]\n",
      "/Users/wholdhus/anaconda3/lib/python3.7/site-packages/ipykernel_launcher.py:14: ComplexWarning: Casting complex values to real discards the imaginary part\n",
      "  \n",
      "100%|██████████| 40/40 [03:30<00:00,  5.26s/it]\n"
     ]
    }
   ],
   "source": [
    "mf = None\n",
    "for i, J2 in enumerate(tqdm(J2s)):\n",
    "    interactions = {'local': {},\n",
    "                    'nearest': {'xx': 1, 'yy': 1, 'zz': 0},\n",
    "                    'n_nearest': {'xx': J2, 'yy': J2, 'zz': 0}}\n",
    "    e, v, mf, cvg = do_hmft(plaq, interactions, basis, \n",
    "                            max_iter=maxit, mf0=mf, \n",
    "                            ops=ops, hmft_tol=10**-8,\n",
    "                            lanczos_tol=10**-11,\n",
    "                            mf_cvg=False, every_other=True)\n",
    "    energies[i] = e\n",
    "    diamonds_cw[:,i] = [d.expt_value(v) for d in diam_1_ops]\n",
    "    diamonds_ccw[:,i] = [d.expt_value(v) for d in diam_2_ops]\n",
    "    dimers[:, i] = [d.expt_value(v) for d in dimer_ops]\n"
   ]
  },
  {
   "cell_type": "markdown",
   "metadata": {},
   "source": [
    "Now, let's go from the stripey phase into the disordered phase"
   ]
  },
  {
   "cell_type": "code",
   "execution_count": 23,
   "metadata": {},
   "outputs": [],
   "source": [
    "J2s_2 = np.linspace(.4, .2, steps)\n",
    "diamonds_cw_2 = np.zeros((3, steps))\n",
    "diamonds_ccw_2 = np.zeros((3, steps))\n",
    "energies_2 = np.zeros(steps)\n",
    "dimers_2 = np.zeros((4, steps))"
   ]
  },
  {
   "cell_type": "code",
   "execution_count": 24,
   "metadata": {},
   "outputs": [
    {
     "name": "stderr",
     "output_type": "stream",
     "text": [
      "  0%|          | 0/40 [00:00<?, ?it/s]/Users/wholdhus/anaconda3/lib/python3.7/site-packages/ipykernel_launcher.py:12: ComplexWarning: Casting complex values to real discards the imaginary part\n",
      "  if sys.path[0] == '':\n",
      "/Users/wholdhus/anaconda3/lib/python3.7/site-packages/ipykernel_launcher.py:13: ComplexWarning: Casting complex values to real discards the imaginary part\n",
      "  del sys.path[0]\n",
      "/Users/wholdhus/anaconda3/lib/python3.7/site-packages/ipykernel_launcher.py:14: ComplexWarning: Casting complex values to real discards the imaginary part\n",
      "  \n",
      "100%|██████████| 40/40 [01:13<00:00,  1.84s/it]\n"
     ]
    }
   ],
   "source": [
    "mf = None\n",
    "for i, J2 in enumerate(tqdm(J2s_2)):\n",
    "    interactions = {'local': {},\n",
    "                    'nearest': {'xx': 1, 'yy': 1, 'zz': 0},\n",
    "                    'n_nearest': {'xx': J2, 'yy': J2, 'zz': 0}}\n",
    "    e, v, mf, cvg = do_hmft(plaq, interactions, basis, \n",
    "                            max_iter=maxit, mf0=mf, \n",
    "                            ops=ops, hmft_tol=10**-8,\n",
    "                            lanczos_tol=10**-11,\n",
    "                            mf_cvg=False, every_other=True)\n",
    "    energies_2[i] = e\n",
    "    diamonds_cw_2[:,i] = [d.expt_value(v) for d in diam_1_ops]\n",
    "    diamonds_ccw_2[:,i] = [d.expt_value(v) for d in diam_2_ops]\n",
    "    dimers_2[:, i] = [d.expt_value(v) for d in dimer_ops]\n"
   ]
  },
  {
   "cell_type": "code",
   "execution_count": 25,
   "metadata": {},
   "outputs": [],
   "source": [
    "J2a = np.concatenate((J2s, J2s_2[::-1]))\n",
    "diamonds_cw_a = np.concatenate((diamonds_cw, diamonds_cw_2[:, ::-1]), axis=1)\n",
    "diamonds_ccw_a = np.concatenate((diamonds_ccw, diamonds_ccw_2[:, ::-1]), axis=1)\n",
    "dimers_a = np.concatenate((dimers, dimers_2[:, ::-1]), axis=1)"
   ]
  },
  {
   "cell_type": "code",
   "execution_count": 26,
   "metadata": {},
   "outputs": [
    {
     "data": {
      "image/png": "[encoded data removed]",
      "text/plain": [
       "<Figure size 800x600 with 1 Axes>"
      ]
     },
     "metadata": {
      "needs_background": "light"
     },
     "output_type": "display_data"
    }
   ],
   "source": [
    "plt.figure(figsize=(4,3), dpi=200)\n",
    "for i in range(3):\n",
    "    plt.plot(J2a, diamonds_cw_a[i,:])\n",
    "    plt.plot(J2a, diamonds_ccw_a[i,:], ls=':')"
   ]
  },
  {
   "cell_type": "code",
   "execution_count": 27,
   "metadata": {},
   "outputs": [
    {
     "data": {
      "image/png": "[encoded data removed]",
      "text/plain": [
       "<Figure size 800x600 with 1 Axes>"
      ]
     },
     "metadata": {
      "needs_background": "light"
     },
     "output_type": "display_data"
    }
   ],
   "source": [
    "plt.figure(figsize=(4,3), dpi=200)\n",
    "colors = ['red', 'blue', 'green', 'orange']\n",
    "for i in range(4):\n",
    "    plt.scatter(J2a, dimers_a[i,:], color=colors[i], marker='.')"
   ]
  },
  {
   "cell_type": "code",
   "execution_count": null,
   "metadata": {},
   "outputs": [],
   "source": []
  }
 ],
 "metadata": {
  "kernelspec": {
   "display_name": "Python 3",
   "language": "python",
   "name": "python3"
  },
  "language_info": {
   "codemirror_mode": {
    "name": "ipython",
    "version": 3
   },
   "file_extension": ".py",
   "mimetype": "text/x-python",
   "name": "python",
   "nbconvert_exporter": "python",
   "pygments_lexer": "ipython3",
   "version": "3.7.6"
  }
 },
 "nbformat": 4,
 "nbformat_minor": 4
}
