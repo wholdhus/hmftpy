{
 "cells": [
  {
   "cell_type": "code",
   "execution_count": null,
   "metadata": {},
   "outputs": [],
   "source": [
    "import hmftpy as hmf\n",
    "import numpy as np\n",
    "import matplotlib.pyplot as plt\n",
    "from hmftpy.plaquettes.square import plaq4, plaq9\n",
    "from quspin.basis import spin_basis_1d\n",
    "from quspin.operators import quantum_operator\n",
    "from tqdm import tqdm"
   ]
  },
  {
   "cell_type": "code",
   "execution_count": null,
   "metadata": {},
   "outputs": [],
   "source": [
    "b4 = spin_basis_1d(4, pauli=1)\n",
    "b9 = spin_basis_1d(9, pauli=1)\n",
    "b16 = spin_basis_1d(16, pauli=1)"
   ]
  },
  {
   "cell_type": "markdown",
   "metadata": {},
   "source": [
    "# Hamiltonian\n",
    "Here, we consider the Hamiltonian\n",
    "\\begin{align*}\n",
    "    H = &\\sum_{\\langle i, j\\rangle} \\vec D_{ij} \\cdot \\left(\\vec \\sigma_i \\times\\vec \\sigma_j\\right)\n",
    "        + \\sum_{\\langle i, j\\rangle} J_{ij} \\vec \\sigma_i \\cdot \\vec \\sigma_j\n",
    "        + B \\sum_i \\sigma_i^z.\n",
    "\\end{align*}\n",
    "where $\\vec D_{ij}=D\\hat z$ for nearest-neighbor bonds $\\langle i,j \\rangle$ and zero elsewise, and similarly $J_{ij}=J$ for $\\langle i, j\\rangle$ nearest-neighbors. For now, I will set $B=0$.\n"
   ]
  },
  {
   "cell_type": "code",
   "execution_count": null,
   "metadata": {},
   "outputs": [],
   "source": [
    "J = -0.2\n",
    "D = 0.1\n",
    "\n",
    "interactions = {'x_bonds': {'xx': J, 'yy': J, 'zz': J,\n",
    "                            'xy': D, 'yx': -D},\n",
    "                'y_bonds': {'xx': J, 'yy': J, 'zz': J,\n",
    "                            'xy': D, 'yx': -D},\n",
    "               }"
   ]
  },
  {
   "cell_type": "code",
   "execution_count": null,
   "metadata": {},
   "outputs": [],
   "source": [
    "Hi = hmf.operators.inner_hamiltonian(plaq4, interactions, b4, checks=False)\n",
    "e, v = Hi.eigsh(k=1, which='SA')\n",
    "ei = e[0]\n",
    "Hp = hmf.operators.periodic_hamiltonian(plaq4, interactions, b4, checks=False)\n",
    "e, v = Hp.eigsh(k=1, which='SA')\n",
    "ep = e[0]\n",
    "print('ED energy with OBC: {}'.format(ei))\n",
    "print('ED energy with PBC: {}'.format(ep))\n",
    "\n",
    "e_hmft, v, mf, cvg = hmf.do_hmft(plaq4, interactions, b4)\n",
    "\n",
    "print('HMFT energy: {}'.format(e_hmft))\n",
    "print('HMFT converged? {}'.format(cvg))"
   ]
  },
  {
   "cell_type": "markdown",
   "metadata": {},
   "source": [
    "Let's look at observables as we change $D$. \n",
    "\n",
    "Specifically, let's measure scalar chirality\n",
    "$\\chi = \\sigma_0 \\cdot \\left(\\sigma_1 \\times \\sigma_2\\right)$ and magnetization $M_z = \\sum_i \\sigma_i^z$."
   ]
  },
  {
   "cell_type": "code",
   "execution_count": null,
   "metadata": {},
   "outputs": [],
   "source": [
    "Mz = quantum_operator({'static': [['z', [[1./4, i] for i in range(4)]]]}, basis=b4, check_herm=False, check_symm=False)\n",
    "tris = [[0,1,2], [1,0,3], [2,3,0], [3,2,1]]\n",
    "# tris = [[0,1,3], [1,2,4], [2,0,5],\n",
    "#         [3,4,6], [4,5,7], [5,3,8],\n",
    "#         [6,7,0], [7,8,1], [8,6,2]]\n",
    "chi = quantum_operator({'static': [['xyz', [[1,t[0],t[1],t[2]] for t in tris]],\n",
    "                                   ['xzy', [[-1,t[0],t[1],t[2]] for t in tris]],\n",
    "                                   ['yzx', [[1,t[0],t[1],t[2]] for t in tris]],\n",
    "                                   ['yxz', [[-1,t[0],t[1],t[2]] for t in tris]],\n",
    "                                   ['zxy', [[1,t[0],t[1],t[2]] for t in tris]],\n",
    "                                   ['zyx', [[-1,t[0],t[1],t[2]] for t in tris]]]}, basis=b4,\n",
    "                      check_herm=False, check_symm=False)\n",
    "steps = 20\n",
    "\n",
    "thetas = np.linspace(0, np.pi, steps)\n",
    "J0 = 1\n",
    "D0 = 1\n",
    "B = 0.001\n",
    "mf_f = None\n",
    "mf_r = None\n",
    "\n",
    "vs_f = np.zeros((steps, b4.Ns), dtype=np.complex128)\n",
    "vs_r = np.zeros((steps, b4.Ns), dtype=np.complex128)\n",
    "vs_p = np.zeros((steps, b4.Ns), dtype=np.complex128)\n",
    "es_f = np.zeros(steps)\n",
    "es_r = np.zeros(steps)\n",
    "es_p = np.zeros(steps)\n",
    "for i, theta in enumerate(thetas):\n",
    "    D = D0*np.sin(theta)\n",
    "    J = -J0*np.cos(theta)\n",
    "    Dr = D0*np.sin(thetas[steps-1-i])\n",
    "    Jr = J0*np.cos(thetas[steps-1-i])\n",
    "    \n",
    "    interactions = {'x_bonds': {'xx': J, 'yy': J, 'zz': J,\n",
    "                                'xy': D, 'yx': -D},\n",
    "                    'y_bonds': {'xx': J, 'yy': J, 'zz': J,\n",
    "                                'xy': D, 'yx': -D},\n",
    "                    'local': {'z': -B}\n",
    "                    }    \n",
    "    Hp = hmf.operators.periodic_hamiltonian(plaq4, interactions, b4, checks=False)\n",
    "    es, vs = Hp.eigh()\n",
    "    vs_p[i,:] = vs[:,0]\n",
    "    es_p[i] = es[0]\n",
    "    es_f[i], vs_f[i,:], mf_f, cvg = hmf.do_hmft(plaq4, interactions, b4, mf0=mf_f)\n",
    "    interactions = {'x_bonds': {'xx': Jr, 'yy': Jr, 'zz': Jr,\n",
    "                                'xy': Dr, 'yx': -Dr},\n",
    "                    'y_bonds': {'xx': Jr, 'yy': Jr, 'zz': Jr,\n",
    "                                'xy': Dr, 'yx': -Dr},\n",
    "                    'local': {'z': -B}\n",
    "                    }   \n",
    "    es_r[i], vs_r[i,:], mf_r, cvg = hmf.do_hmft(plaq4, interactions, b4, mf0=mf_r)"
   ]
  },
  {
   "cell_type": "code",
   "execution_count": null,
   "metadata": {},
   "outputs": [],
   "source": [
    "chis_hmft = np.zeros(steps)\n",
    "chis_pbc = np.zeros(steps)\n",
    "ms_hmft = np.zeros(steps)\n",
    "ms_pbc = np.zeros(steps)\n",
    "inds = np.zeros(steps, dtype=int)\n",
    "for i in range(steps):\n",
    "    if es_f[i]-es_r[::-1][i] < 10**-7:\n",
    "        inds[i] = 1\n",
    "# inds = np.argmin([es_f, es_r[::-1]], axis=0)\n",
    "print(inds)\n",
    "for i, ind in enumerate(inds):\n",
    "    vp = vs_p[i,:]\n",
    "    vh = [vs_f[i,:], vs_r[steps-1-i,:]][ind]\n",
    "    ms_hmft[i] = Mz.expt_value(vh).real\n",
    "    ms_pbc[i] = Mz.expt_value(vp).real\n",
    "    chis_hmft[i] = chi.expt_value(vh).real\n",
    "    chis_pbc[i] = chi.expt_value(vp).real"
   ]
  },
  {
   "cell_type": "code",
   "execution_count": null,
   "metadata": {},
   "outputs": [],
   "source": [
    "plt.figure(figsize=(4,3), dpi=200)\n",
    "plt.scatter(thetas, es_p, marker='+', label='PBC')\n",
    "plt.scatter(thetas, es_f, marker='x', label='HMFT1')\n",
    "plt.scatter(thetas, es_r[::-1], marker='.', label='HMFT2')\n",
    "plt.plot(thetas, np.min([es_f, es_r[::-1]], axis=0))\n",
    "plt.legend()\n",
    "plt.xlabel(r'$\\theta$')\n",
    "plt.ylabel(r'$e$')\n",
    "plt.show()\n",
    "\n",
    "plt.figure(figsize=(4,3), dpi=200)\n",
    "plt.plot(thetas, chis_pbc, marker='.', label='PBC')\n",
    "plt.plot(thetas, chis_hmft, marker='+', label='HMFT')\n",
    "plt.xlabel(r'$\\theta$')\n",
    "plt.ylabel(r'$\\chi$')\n",
    "plt.legend()\n",
    "plt.show()\n",
    "\n",
    "plt.figure(figsize=(4,3), dpi=200)\n",
    "plt.plot(thetas, ms_pbc, marker='.', label='PBC')\n",
    "plt.plot(thetas, ms_hmft, marker='+', label='HMFT')\n",
    "plt.xlabel(r'$\\theta$')\n",
    "plt.ylabel(r'$M_z$')\n",
    "plt.legend()\n",
    "plt.show()"
   ]
  },
  {
   "cell_type": "code",
   "execution_count": null,
   "metadata": {},
   "outputs": [],
   "source": []
  }
 ],
 "metadata": {
  "kernelspec": {
   "display_name": "Python 3",
   "language": "python",
   "name": "python3"
  },
  "language_info": {
   "codemirror_mode": {
    "name": "ipython",
    "version": 3
   },
   "file_extension": ".py",
   "mimetype": "text/x-python",
   "name": "python",
   "nbconvert_exporter": "python",
   "pygments_lexer": "ipython3",
   "version": "3.7.6"
  }
 },
 "nbformat": 4,
 "nbformat_minor": 4
}
